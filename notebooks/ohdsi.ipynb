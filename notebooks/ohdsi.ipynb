{
 "cells": [
  {
   "cell_type": "code",
   "execution_count": 1,
   "id": "b063ee35",
   "metadata": {},
   "outputs": [
    {
     "data": {
      "text/plain": [
       "'c:\\\\Users\\\\PrinciaFernandes\\\\Mresult\\\\Phenomix\\\\notebooks'"
      ]
     },
     "execution_count": 1,
     "metadata": {},
     "output_type": "execute_result"
    }
   ],
   "source": [
    "%pwd"
   ]
  },
  {
   "cell_type": "code",
   "execution_count": 2,
   "id": "72d118b2",
   "metadata": {},
   "outputs": [],
   "source": [
    "import os\n",
    "os.chdir(\"../\")"
   ]
  },
  {
   "cell_type": "code",
   "execution_count": 3,
   "id": "4ce9c550",
   "metadata": {},
   "outputs": [
    {
     "data": {
      "text/plain": [
       "'c:\\\\Users\\\\PrinciaFernandes\\\\Mresult\\\\Phenomix'"
      ]
     },
     "execution_count": 3,
     "metadata": {},
     "output_type": "execute_result"
    }
   ],
   "source": [
    "%pwd"
   ]
  },
  {
   "cell_type": "code",
   "execution_count": null,
   "id": "e4abcd8e",
   "metadata": {},
   "outputs": [],
   "source": [
    "import os\n",
    "import csv\n",
    "import json\n",
    "\n",
    "\n",
    "def get_ohdsi_data(dir):\n",
    "    ohdsi = []\n",
    "    for csv_file in os.listdir(dir)[:5]:\n",
    "        file_path = os.path.join(dir,csv_file)\n",
    "        with open(file_path,'r') as file:\n",
    "            dictreader = csv.DictReader(file)\n",
    "\n",
    "            for row in dictreader:\n",
    "                row['Cohort_id'] = int(csv_file.split(\"-\")[0].strip(\"C\"))\n",
    "                ohdsi.append(row)\n",
    "    return ohdsi\n",
    "\n",
    "def get_detail(dir):\n",
    "    with open(dir,'r') as file:\n",
    "        file = file.read()\n",
    "        ohdsi_detail = json.loads(file)\n",
    "    return ohdsi_detail\n",
    "\n",
    "def get_concept(ohdsi,detail):\n",
    "    ohdsi_concept = []\n",
    "    concept_id_list = []\n",
    "    for row in ohdsi:\n",
    "        # print(row)\n",
    "        if row['Concept Id'] not in concept_id_list:\n",
    "            concept_id_list.append(row['Concept Id'])\n",
    "            detail_dictionary = {}\n",
    "            detail_dictionary['Concept_ID'] = int(row['Concept Id'])\n",
    "            detail_dictionary['Concet_Name'] = row['Concept Name']\n",
    "            detail_dictionary['Vocabulary_ID'] = [row['Vocabulary Id'] if row['Vocabulary Id'] else 'NA']\n",
    "            detail_dictionary['Concept_code'] = [row['Concept Code'] if row['Concept Code'] else 'NA']\n",
    "            detail_dictionary['Cohort_ID'] = [r['Cohort_id'] for r in detail if r['Cohort_id'] == row['Cohort_id']]\n",
    "            detail_dictionary['Cohort_name'] = [d['Cohort_name'] for d in detail if d['Cohort_id'] == row['Cohort_id']]\n",
    "            detail_dictionary['PIDs'] = [d['PID'] for d in detail if d['Cohort_id'] == row['Cohort_id']]\n",
    "            ohdsi_concept.append(detail_dictionary)\n",
    "        # break\n",
    "        else:\n",
    "            for concept in ohdsi_concept:\n",
    "                if concept['Concept_ID'] == int(row['Concept Id']):\n",
    "                    concept['Vocabulary_ID'].append(row['Vocabulary Id'] if row['Vocabulary Id'] else 'NA')\n",
    "                    concept['Concept_code'].append(row['Concept Code'] if row['Concept Code'] else 'NA')\n",
    "                    concept['Cohort_ID'].extend([r['Cohort_id'] for r in detail if r['Cohort_id'] == row['Cohort_id']])\n",
    "                    concept['Cohort_name'].extend([d['Cohort_name'] for d in detail if d['Cohort_id'] == row['Cohort_id']])\n",
    "                    concept['PIDs'].extend([d['PID'] for d in detail if d['Cohort_id'] == row['Cohort_id']])\n",
    "    \n",
    "    sorted_concept = sorted(ohdsi_concept,key = lambda x: x['Concept_ID']) \n",
    "    i = 0\n",
    "    for concept in sorted_concept:\n",
    "        i += 1\n",
    "        concept['CID'] = f'OC{i:06d}'\n",
    "\n",
    "    return sorted_concept\n"
   ]
  },
  {
   "cell_type": "code",
   "execution_count": null,
   "id": "2d844611",
   "metadata": {},
   "outputs": [],
   "source": [
    "from src.config import OHDSI_DETAIL_DIR,OHDSI_CONCEPT_DIR,OHDSI_DIR\n",
    "from src.utils import save_detail,save_concept"
   ]
  },
  {
   "cell_type": "code",
   "execution_count": 9,
   "id": "a835dee0",
   "metadata": {},
   "outputs": [],
   "source": [
    "\n",
    "def main():\n",
    "    dir = r'OHDSI/'\n",
    "    # ohdsi_dir = 'OHDSI Files'\n",
    "    # detail_dir = 'OHDSI detail/ohdsi_pheno_detail'\n",
    "    ohdsi =  get_ohdsi_data(OHDSI_CONCEPT_DIR)\n",
    "    detail = get_detail(OHDSI_DETAIL_DIR)\n",
    "    concept = get_concept(ohdsi,detail)\n",
    "    save_detail(OHDSI_DIR,detail,'OHDSI')\n",
    "    save_concept(OHDSI_DIR,concept,'OHDSI')\n",
    "    return detail,concept\n",
    "\n",
    "ohdsi_detail,ohdsi_concept = main()\n",
    "\n",
    "\n",
    "              "
   ]
  }
 ],
 "metadata": {
  "kernelspec": {
   "display_name": "base",
   "language": "python",
   "name": "python3"
  },
  "language_info": {
   "codemirror_mode": {
    "name": "ipython",
    "version": 3
   },
   "file_extension": ".py",
   "mimetype": "text/x-python",
   "name": "python",
   "nbconvert_exporter": "python",
   "pygments_lexer": "ipython3",
   "version": "3.12.7"
  }
 },
 "nbformat": 4,
 "nbformat_minor": 5
}
