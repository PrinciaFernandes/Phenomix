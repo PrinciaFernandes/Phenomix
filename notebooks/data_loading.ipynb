{
 "cells": [
  {
   "cell_type": "code",
   "execution_count": 1,
   "id": "a8b9002e",
   "metadata": {},
   "outputs": [],
   "source": [
    "import os \n"
   ]
  },
  {
   "cell_type": "code",
   "execution_count": 34,
   "id": "0d321ead",
   "metadata": {},
   "outputs": [
    {
     "data": {
      "text/plain": [
       "'c:\\\\Users\\\\PrinciaFernandes\\\\Mresult\\\\Phenomix\\\\notebooks'"
      ]
     },
     "execution_count": 34,
     "metadata": {},
     "output_type": "execute_result"
    }
   ],
   "source": [
    "%pwd\n"
   ]
  },
  {
   "cell_type": "code",
   "execution_count": 35,
   "id": "b2857be5",
   "metadata": {},
   "outputs": [],
   "source": [
    "os.chdir(\"../\")"
   ]
  },
  {
   "cell_type": "code",
   "execution_count": 36,
   "id": "ac3c9c0f",
   "metadata": {},
   "outputs": [
    {
     "data": {
      "text/plain": [
       "'c:\\\\Users\\\\PrinciaFernandes\\\\Mresult\\\\Phenomix'"
      ]
     },
     "execution_count": 36,
     "metadata": {},
     "output_type": "execute_result"
    }
   ],
   "source": [
    "%pwd"
   ]
  },
  {
   "cell_type": "code",
   "execution_count": 6,
   "id": "9d4cfda5",
   "metadata": {},
   "outputs": [],
   "source": [
    "from tqdm import tqdm\n",
    "from src.database.load_vector_data import DataLoader"
   ]
  },
  {
   "cell_type": "code",
   "execution_count": 7,
   "id": "79f6eccf",
   "metadata": {},
   "outputs": [
    {
     "name": "stdout",
     "output_type": "stream",
     "text": [
      "Extracting Data\n",
      "Data Extraction Completed\n",
      "Chunking Completed\n"
     ]
    },
    {
     "name": "stderr",
     "output_type": "stream",
     "text": [
      "Embedding Batches: 100%|██████████| 5/5 [01:53<00:00, 22.63s/it]\n"
     ]
    }
   ],
   "source": [
    "dataloader = DataLoader()\n",
    "records = dataloader.get_records()\n",
    "document = dataloader.data_chuncking(records)\n",
    "vector_db = dataloader.get_vector_db()\n",
    "\n",
    "# Process documents in batches\n",
    "BATCH_SIZE = 500\n",
    "for i in tqdm(range(0, len(document), BATCH_SIZE), desc=\"Embedding Batches\"):\n",
    "    batch = document[i:i + BATCH_SIZE]  # Get batch slice\n",
    "    vector_db.add_documents(batch)"
   ]
  },
  {
   "cell_type": "code",
   "execution_count": null,
   "id": "7ca2f34b",
   "metadata": {},
   "outputs": [],
   "source": []
  },
  {
   "cell_type": "code",
   "execution_count": 37,
   "id": "5f64799a",
   "metadata": {},
   "outputs": [],
   "source": [
    "from langchain_core.output_parsers import JsonOutputParser\n",
    "from langchain_chroma import Chroma\n",
    "from src.prompts.Prompts import Filter_template ,Generator_template\n",
    "from dotenv import load_dotenv\n",
    "from src.llm_model.gemini_model import embedding_model,chat_model\n",
    "from src.config import VECTORDB_DIR\n",
    "from datasets import Dataset\n",
    "from ragas import evaluate\n",
    "from ragas.metrics import (\n",
    "    faithfulness,\n",
    "    answer_relevancy,\n",
    "    answer_correctness,\n",
    "    context_precision,\n",
    "    context_recall,\n",
    ")\n"
   ]
  },
  {
   "cell_type": "code",
   "execution_count": 44,
   "id": "50a5436e",
   "metadata": {},
   "outputs": [],
   "source": [
    "\n",
    "load_dotenv()\n",
    "\n",
    "class ChatBot:\n",
    "    def __init__(self):\n",
    "\n",
    "        self.embeddings = embedding_model()\n",
    "        self.vector_db = Chroma(embedding_function=self.embeddings, persist_directory=VECTORDB_DIR)\n",
    "        self.llm = chat_model()\n",
    "        self.parser = JsonOutputParser()\n",
    "        self.filtering_chain = Filter_template | self.llm | self.parser\n",
    "        self.generator_chain = Generator_template | self.llm\n",
    "\n",
    "\n",
    "    \n",
    "    def get_result(self, query):\n",
    "\n",
    "        self.query = query\n",
    "        lower_query = query.lower()\n",
    "        filtering_result = self.filtering_chain.invoke({\"query\" : lower_query})\n",
    "        \n",
    "        if filtering_result:\n",
    "            metadata_filter = filtering_result\n",
    "        else:\n",
    "            metadata_filter = None\n",
    "        retriever = self.vector_db.as_retriever(search_type=\"mmr\", search_kwargs = {\"k\": 10, \"filter\":metadata_filter, 'fetch_k':1000})\n",
    "        response = retriever.invoke(query)\n",
    "\n",
    "\n",
    "        tupled_doc = [(doc.metadata,doc.page_content) for doc in response]\n",
    "\n",
    "        result = self.generator_chain.invoke({\"query\": query, \"content\" : tupled_doc})\n",
    "\n",
    "        self.ragas(query, result.content, response)\n",
    "\n",
    "        return result.content\n",
    "    \n",
    "\n",
    "    def ragas(self,query,generated_response,retrieved_documents):\n",
    "\n",
    "        self.data = {\n",
    "            \"query\":[query],\n",
    "            \"generated_response\":[generated_response],\n",
    "            \"retrieved_documents\":[retrieved_documents]\n",
    "        }\n",
    "\n",
    "        self.dataset = Dataset.from_dict(self.data)\n",
    "\n",
    "        self.metrics = [\n",
    "            faithfulness,\n",
    "            answer_relevancy,\n",
    "            answer_correctness,\n",
    "            context_precision,\n",
    "            context_recall,\n",
    "        ]\n",
    "\n",
    "        accuracy_result = evaluate(self.dataset, self.metrics)\n",
    "        \n",
    "        for metrics,score in accuracy_result.items():\n",
    "            print(f\"{metrics} : {score:.2f}\")\n",
    "\n",
    "\n"
   ]
  },
  {
   "cell_type": "code",
   "execution_count": 45,
   "id": "8c37b0d6",
   "metadata": {},
   "outputs": [],
   "source": [
    "\n",
    "chatbot = ChatBot()\n"
   ]
  },
  {
   "cell_type": "code",
   "execution_count": 46,
   "id": "f5755284",
   "metadata": {},
   "outputs": [],
   "source": [
    "query = 'Give a brief on BMI'"
   ]
  },
  {
   "cell_type": "code",
   "execution_count": 47,
   "id": "aea76555",
   "metadata": {},
   "outputs": [
    {
     "ename": "ArrowInvalid",
     "evalue": "Could not convert Document(id='85d14a61-89d8-4e2c-8a8d-e1f6e005804a', metadata={'phenotype_name': 'bmi', 'website_name': 'hdruk'}, page_content='{\"detail_props\": {\"Implementation\": \"Unknown value\", \"Phenoflow_id\": \"Unknown value\", \"Name\": \"BMI\", \"Tags\": \"Unknown value\", \"Status\": 2, \"Is_deleted\": \"Unknown value\"}, \"concept_props\": {\"Description\": \"Body mass index centile\", \"Concept_history_id\": \"[4752]\", \"Logical_type\": \"[1]\", \"Coding_system_id\": \"[5]\", \"Coding_system_name\": \"[\\\\\"Read codes v2\\\\\"]\", \"PIDs\": \"[\\\\\"HP000636\\\\\"]\", \"Component_history_id\": \"[2698]\", \"Concept_history_date\": \"[\\\\\"2021-10-06T16:19:42.629679Z\\\\\"]\", \"Code\": \"[\\\\\"22K9\\\\\"]\", \"Codelist_history_id\": \"[2644]\", \"CID\": \"HC032527\", \"Phenotype_version_id\": \"[896]\", \"Phenotype_name\": \"[\\\\\"BMI\\\\\"]\", \"Codelist_id\": \"[2011]\", \"Coding_system_description\": \"[\\\\\"Read codes v2\\\\\"]\", \"Component_id\": \"[2011]\", \"ID\": 96406, \"Phenotype_id\": \"[\\\\\"PH448\\\\\"]\", \"Concept_id\": \"[1807]\"}}') with type Document: did not recognize Python value type when inferring an Arrow data type",
     "output_type": "error",
     "traceback": [
      "\u001b[1;31m---------------------------------------------------------------------------\u001b[0m",
      "\u001b[1;31mArrowInvalid\u001b[0m                              Traceback (most recent call last)",
      "File \u001b[1;32mc:\\Users\\PrinciaFernandes\\anaconda3\\Lib\\site-packages\\datasets\\arrow_writer.py:243\u001b[0m, in \u001b[0;36mTypedSequence.__arrow_array__\u001b[1;34m(self, type)\u001b[0m\n\u001b[0;32m    242\u001b[0m     trying_cast_to_python_objects \u001b[38;5;241m=\u001b[39m \u001b[38;5;28;01mTrue\u001b[39;00m\n\u001b[1;32m--> 243\u001b[0m     out \u001b[38;5;241m=\u001b[39m \u001b[43mpa\u001b[49m\u001b[38;5;241;43m.\u001b[39;49m\u001b[43marray\u001b[49m\u001b[43m(\u001b[49m\u001b[43mcast_to_python_objects\u001b[49m\u001b[43m(\u001b[49m\u001b[43mdata\u001b[49m\u001b[43m,\u001b[49m\u001b[43m \u001b[49m\u001b[43monly_1d_for_numpy\u001b[49m\u001b[38;5;241;43m=\u001b[39;49m\u001b[38;5;28;43;01mTrue\u001b[39;49;00m\u001b[43m)\u001b[49m\u001b[43m)\u001b[49m\n\u001b[0;32m    244\u001b[0m \u001b[38;5;66;03m# use smaller integer precisions if possible\u001b[39;00m\n",
      "File \u001b[1;32mc:\\Users\\PrinciaFernandes\\anaconda3\\Lib\\site-packages\\pyarrow\\array.pxi:355\u001b[0m, in \u001b[0;36mpyarrow.lib.array\u001b[1;34m()\u001b[0m\n",
      "File \u001b[1;32mc:\\Users\\PrinciaFernandes\\anaconda3\\Lib\\site-packages\\pyarrow\\array.pxi:42\u001b[0m, in \u001b[0;36mpyarrow.lib._sequence_to_array\u001b[1;34m()\u001b[0m\n",
      "File \u001b[1;32mc:\\Users\\PrinciaFernandes\\anaconda3\\Lib\\site-packages\\pyarrow\\error.pxi:154\u001b[0m, in \u001b[0;36mpyarrow.lib.pyarrow_internal_check_status\u001b[1;34m()\u001b[0m\n",
      "File \u001b[1;32mc:\\Users\\PrinciaFernandes\\anaconda3\\Lib\\site-packages\\pyarrow\\error.pxi:91\u001b[0m, in \u001b[0;36mpyarrow.lib.check_status\u001b[1;34m()\u001b[0m\n",
      "\u001b[1;31mArrowInvalid\u001b[0m: Could not convert Document(id='85d14a61-89d8-4e2c-8a8d-e1f6e005804a', metadata={'phenotype_name': 'bmi', 'website_name': 'hdruk'}, page_content='{\"detail_props\": {\"Implementation\": \"Unknown value\", \"Phenoflow_id\": \"Unknown value\", \"Name\": \"BMI\", \"Tags\": \"Unknown value\", \"Status\": 2, \"Is_deleted\": \"Unknown value\"}, \"concept_props\": {\"Description\": \"Body mass index centile\", \"Concept_history_id\": \"[4752]\", \"Logical_type\": \"[1]\", \"Coding_system_id\": \"[5]\", \"Coding_system_name\": \"[\\\\\"Read codes v2\\\\\"]\", \"PIDs\": \"[\\\\\"HP000636\\\\\"]\", \"Component_history_id\": \"[2698]\", \"Concept_history_date\": \"[\\\\\"2021-10-06T16:19:42.629679Z\\\\\"]\", \"Code\": \"[\\\\\"22K9\\\\\"]\", \"Codelist_history_id\": \"[2644]\", \"CID\": \"HC032527\", \"Phenotype_version_id\": \"[896]\", \"Phenotype_name\": \"[\\\\\"BMI\\\\\"]\", \"Codelist_id\": \"[2011]\", \"Coding_system_description\": \"[\\\\\"Read codes v2\\\\\"]\", \"Component_id\": \"[2011]\", \"ID\": 96406, \"Phenotype_id\": \"[\\\\\"PH448\\\\\"]\", \"Concept_id\": \"[1807]\"}}') with type Document: did not recognize Python value type when inferring an Arrow data type",
      "\nDuring handling of the above exception, another exception occurred:\n",
      "\u001b[1;31mArrowInvalid\u001b[0m                              Traceback (most recent call last)",
      "Cell \u001b[1;32mIn[47], line 1\u001b[0m\n\u001b[1;32m----> 1\u001b[0m \u001b[43mchatbot\u001b[49m\u001b[38;5;241;43m.\u001b[39;49m\u001b[43mget_result\u001b[49m\u001b[43m(\u001b[49m\u001b[43mquery\u001b[49m\u001b[43m)\u001b[49m\n",
      "Cell \u001b[1;32mIn[44], line 33\u001b[0m, in \u001b[0;36mChatBot.get_result\u001b[1;34m(self, query)\u001b[0m\n\u001b[0;32m     29\u001b[0m tupled_doc \u001b[38;5;241m=\u001b[39m [(doc\u001b[38;5;241m.\u001b[39mmetadata,doc\u001b[38;5;241m.\u001b[39mpage_content) \u001b[38;5;28;01mfor\u001b[39;00m doc \u001b[38;5;129;01min\u001b[39;00m response]\n\u001b[0;32m     31\u001b[0m result \u001b[38;5;241m=\u001b[39m \u001b[38;5;28mself\u001b[39m\u001b[38;5;241m.\u001b[39mgenerator_chain\u001b[38;5;241m.\u001b[39minvoke({\u001b[38;5;124m\"\u001b[39m\u001b[38;5;124mquery\u001b[39m\u001b[38;5;124m\"\u001b[39m: query, \u001b[38;5;124m\"\u001b[39m\u001b[38;5;124mcontent\u001b[39m\u001b[38;5;124m\"\u001b[39m : tupled_doc})\n\u001b[1;32m---> 33\u001b[0m \u001b[38;5;28;43mself\u001b[39;49m\u001b[38;5;241;43m.\u001b[39;49m\u001b[43mragas\u001b[49m\u001b[43m(\u001b[49m\u001b[43mquery\u001b[49m\u001b[43m,\u001b[49m\u001b[43m \u001b[49m\u001b[43mresult\u001b[49m\u001b[38;5;241;43m.\u001b[39;49m\u001b[43mcontent\u001b[49m\u001b[43m,\u001b[49m\u001b[43m \u001b[49m\u001b[43mresponse\u001b[49m\u001b[43m)\u001b[49m\n\u001b[0;32m     35\u001b[0m \u001b[38;5;28;01mreturn\u001b[39;00m result\u001b[38;5;241m.\u001b[39mcontent\n",
      "Cell \u001b[1;32mIn[44], line 46\u001b[0m, in \u001b[0;36mChatBot.ragas\u001b[1;34m(self, query, generated_response, retrieved_documents)\u001b[0m\n\u001b[0;32m     38\u001b[0m \u001b[38;5;28;01mdef\u001b[39;00m\u001b[38;5;250m \u001b[39m\u001b[38;5;21mragas\u001b[39m(\u001b[38;5;28mself\u001b[39m,query,generated_response,retrieved_documents):\n\u001b[0;32m     40\u001b[0m     \u001b[38;5;28mself\u001b[39m\u001b[38;5;241m.\u001b[39mdata \u001b[38;5;241m=\u001b[39m {\n\u001b[0;32m     41\u001b[0m         \u001b[38;5;124m\"\u001b[39m\u001b[38;5;124mquery\u001b[39m\u001b[38;5;124m\"\u001b[39m:[query],\n\u001b[0;32m     42\u001b[0m         \u001b[38;5;124m\"\u001b[39m\u001b[38;5;124mgenerated_response\u001b[39m\u001b[38;5;124m\"\u001b[39m:[generated_response],\n\u001b[0;32m     43\u001b[0m         \u001b[38;5;124m\"\u001b[39m\u001b[38;5;124mretrieved_documents\u001b[39m\u001b[38;5;124m\"\u001b[39m:[retrieved_documents]\n\u001b[0;32m     44\u001b[0m     }\n\u001b[1;32m---> 46\u001b[0m     \u001b[38;5;28mself\u001b[39m\u001b[38;5;241m.\u001b[39mdataset \u001b[38;5;241m=\u001b[39m \u001b[43mDataset\u001b[49m\u001b[38;5;241;43m.\u001b[39;49m\u001b[43mfrom_dict\u001b[49m\u001b[43m(\u001b[49m\u001b[38;5;28;43mself\u001b[39;49m\u001b[38;5;241;43m.\u001b[39;49m\u001b[43mdata\u001b[49m\u001b[43m)\u001b[49m\n\u001b[0;32m     48\u001b[0m     \u001b[38;5;28mself\u001b[39m\u001b[38;5;241m.\u001b[39mmetrics \u001b[38;5;241m=\u001b[39m [\n\u001b[0;32m     49\u001b[0m         faithfulness,\n\u001b[0;32m     50\u001b[0m         answer_relevancy,\n\u001b[1;32m   (...)\u001b[0m\n\u001b[0;32m     53\u001b[0m         context_recall,\n\u001b[0;32m     54\u001b[0m     ]\n\u001b[0;32m     56\u001b[0m     accuracy_result \u001b[38;5;241m=\u001b[39m evaluate(\u001b[38;5;28mself\u001b[39m\u001b[38;5;241m.\u001b[39mdataset, \u001b[38;5;28mself\u001b[39m\u001b[38;5;241m.\u001b[39mmetrics)\n",
      "File \u001b[1;32mc:\\Users\\PrinciaFernandes\\anaconda3\\Lib\\site-packages\\datasets\\arrow_dataset.py:940\u001b[0m, in \u001b[0;36mDataset.from_dict\u001b[1;34m(cls, mapping, features, info, split)\u001b[0m\n\u001b[0;32m    938\u001b[0m     arrow_typed_mapping[col] \u001b[38;5;241m=\u001b[39m data\n\u001b[0;32m    939\u001b[0m mapping \u001b[38;5;241m=\u001b[39m arrow_typed_mapping\n\u001b[1;32m--> 940\u001b[0m pa_table \u001b[38;5;241m=\u001b[39m \u001b[43mInMemoryTable\u001b[49m\u001b[38;5;241;43m.\u001b[39;49m\u001b[43mfrom_pydict\u001b[49m\u001b[43m(\u001b[49m\u001b[43mmapping\u001b[49m\u001b[38;5;241;43m=\u001b[39;49m\u001b[43mmapping\u001b[49m\u001b[43m)\u001b[49m\n\u001b[0;32m    941\u001b[0m \u001b[38;5;28;01mif\u001b[39;00m info \u001b[38;5;129;01mis\u001b[39;00m \u001b[38;5;28;01mNone\u001b[39;00m:\n\u001b[0;32m    942\u001b[0m     info \u001b[38;5;241m=\u001b[39m DatasetInfo()\n",
      "File \u001b[1;32mc:\\Users\\PrinciaFernandes\\anaconda3\\Lib\\site-packages\\datasets\\table.py:758\u001b[0m, in \u001b[0;36mInMemoryTable.from_pydict\u001b[1;34m(cls, *args, **kwargs)\u001b[0m\n\u001b[0;32m    742\u001b[0m \u001b[38;5;129m@classmethod\u001b[39m\n\u001b[0;32m    743\u001b[0m \u001b[38;5;28;01mdef\u001b[39;00m\u001b[38;5;250m \u001b[39m\u001b[38;5;21mfrom_pydict\u001b[39m(\u001b[38;5;28mcls\u001b[39m, \u001b[38;5;241m*\u001b[39margs, \u001b[38;5;241m*\u001b[39m\u001b[38;5;241m*\u001b[39mkwargs):\n\u001b[0;32m    744\u001b[0m \u001b[38;5;250m    \u001b[39m\u001b[38;5;124;03m\"\"\"\u001b[39;00m\n\u001b[0;32m    745\u001b[0m \u001b[38;5;124;03m    Construct a Table from Arrow arrays or columns.\u001b[39;00m\n\u001b[0;32m    746\u001b[0m \n\u001b[1;32m   (...)\u001b[0m\n\u001b[0;32m    756\u001b[0m \u001b[38;5;124;03m        `datasets.table.Table`\u001b[39;00m\n\u001b[0;32m    757\u001b[0m \u001b[38;5;124;03m    \"\"\"\u001b[39;00m\n\u001b[1;32m--> 758\u001b[0m     \u001b[38;5;28;01mreturn\u001b[39;00m \u001b[38;5;28mcls\u001b[39m(\u001b[43mpa\u001b[49m\u001b[38;5;241;43m.\u001b[39;49m\u001b[43mTable\u001b[49m\u001b[38;5;241;43m.\u001b[39;49m\u001b[43mfrom_pydict\u001b[49m\u001b[43m(\u001b[49m\u001b[38;5;241;43m*\u001b[39;49m\u001b[43margs\u001b[49m\u001b[43m,\u001b[49m\u001b[43m \u001b[49m\u001b[38;5;241;43m*\u001b[39;49m\u001b[38;5;241;43m*\u001b[39;49m\u001b[43mkwargs\u001b[49m\u001b[43m)\u001b[49m)\n",
      "File \u001b[1;32mc:\\Users\\PrinciaFernandes\\anaconda3\\Lib\\site-packages\\pyarrow\\table.pxi:1920\u001b[0m, in \u001b[0;36mpyarrow.lib._Tabular.from_pydict\u001b[1;34m()\u001b[0m\n",
      "File \u001b[1;32mc:\\Users\\PrinciaFernandes\\anaconda3\\Lib\\site-packages\\pyarrow\\table.pxi:5992\u001b[0m, in \u001b[0;36mpyarrow.lib._from_pydict\u001b[1;34m()\u001b[0m\n",
      "File \u001b[1;32mc:\\Users\\PrinciaFernandes\\anaconda3\\Lib\\site-packages\\pyarrow\\array.pxi:385\u001b[0m, in \u001b[0;36mpyarrow.lib.asarray\u001b[1;34m()\u001b[0m\n",
      "File \u001b[1;32mc:\\Users\\PrinciaFernandes\\anaconda3\\Lib\\site-packages\\pyarrow\\array.pxi:247\u001b[0m, in \u001b[0;36mpyarrow.lib.array\u001b[1;34m()\u001b[0m\n",
      "File \u001b[1;32mc:\\Users\\PrinciaFernandes\\anaconda3\\Lib\\site-packages\\pyarrow\\array.pxi:112\u001b[0m, in \u001b[0;36mpyarrow.lib._handle_arrow_array_protocol\u001b[1;34m()\u001b[0m\n",
      "File \u001b[1;32mc:\\Users\\PrinciaFernandes\\anaconda3\\Lib\\site-packages\\datasets\\arrow_writer.py:311\u001b[0m, in \u001b[0;36mTypedSequence.__arrow_array__\u001b[1;34m(self, type)\u001b[0m\n\u001b[0;32m    309\u001b[0m     \u001b[38;5;28;01mreturn\u001b[39;00m out\n\u001b[0;32m    310\u001b[0m \u001b[38;5;28;01melif\u001b[39;00m trying_cast_to_python_objects \u001b[38;5;129;01mand\u001b[39;00m \u001b[38;5;124m\"\u001b[39m\u001b[38;5;124mCould not convert\u001b[39m\u001b[38;5;124m\"\u001b[39m \u001b[38;5;129;01min\u001b[39;00m \u001b[38;5;28mstr\u001b[39m(e):\n\u001b[1;32m--> 311\u001b[0m     out \u001b[38;5;241m=\u001b[39m \u001b[43mpa\u001b[49m\u001b[38;5;241;43m.\u001b[39;49m\u001b[43marray\u001b[49m\u001b[43m(\u001b[49m\u001b[43mcast_to_python_objects\u001b[49m\u001b[43m(\u001b[49m\u001b[43mdata\u001b[49m\u001b[43m,\u001b[49m\u001b[43m \u001b[49m\u001b[43monly_1d_for_numpy\u001b[49m\u001b[38;5;241;43m=\u001b[39;49m\u001b[38;5;28;43;01mTrue\u001b[39;49;00m\u001b[43m,\u001b[49m\u001b[43m \u001b[49m\u001b[43moptimize_list_casting\u001b[49m\u001b[38;5;241;43m=\u001b[39;49m\u001b[38;5;28;43;01mFalse\u001b[39;49;00m\u001b[43m)\u001b[49m\u001b[43m)\u001b[49m\n\u001b[0;32m    312\u001b[0m     \u001b[38;5;28;01mif\u001b[39;00m \u001b[38;5;28mtype\u001b[39m \u001b[38;5;129;01mis\u001b[39;00m \u001b[38;5;129;01mnot\u001b[39;00m \u001b[38;5;28;01mNone\u001b[39;00m:\n\u001b[0;32m    313\u001b[0m         out \u001b[38;5;241m=\u001b[39m cast_array_to_feature(out, \u001b[38;5;28mtype\u001b[39m, allow_primitive_to_str\u001b[38;5;241m=\u001b[39m\u001b[38;5;28;01mTrue\u001b[39;00m, allow_decimal_to_str\u001b[38;5;241m=\u001b[39m\u001b[38;5;28;01mTrue\u001b[39;00m)\n",
      "File \u001b[1;32mc:\\Users\\PrinciaFernandes\\anaconda3\\Lib\\site-packages\\pyarrow\\array.pxi:355\u001b[0m, in \u001b[0;36mpyarrow.lib.array\u001b[1;34m()\u001b[0m\n",
      "File \u001b[1;32mc:\\Users\\PrinciaFernandes\\anaconda3\\Lib\\site-packages\\pyarrow\\array.pxi:42\u001b[0m, in \u001b[0;36mpyarrow.lib._sequence_to_array\u001b[1;34m()\u001b[0m\n",
      "File \u001b[1;32mc:\\Users\\PrinciaFernandes\\anaconda3\\Lib\\site-packages\\pyarrow\\error.pxi:154\u001b[0m, in \u001b[0;36mpyarrow.lib.pyarrow_internal_check_status\u001b[1;34m()\u001b[0m\n",
      "File \u001b[1;32mc:\\Users\\PrinciaFernandes\\anaconda3\\Lib\\site-packages\\pyarrow\\error.pxi:91\u001b[0m, in \u001b[0;36mpyarrow.lib.check_status\u001b[1;34m()\u001b[0m\n",
      "\u001b[1;31mArrowInvalid\u001b[0m: Could not convert Document(id='85d14a61-89d8-4e2c-8a8d-e1f6e005804a', metadata={'phenotype_name': 'bmi', 'website_name': 'hdruk'}, page_content='{\"detail_props\": {\"Implementation\": \"Unknown value\", \"Phenoflow_id\": \"Unknown value\", \"Name\": \"BMI\", \"Tags\": \"Unknown value\", \"Status\": 2, \"Is_deleted\": \"Unknown value\"}, \"concept_props\": {\"Description\": \"Body mass index centile\", \"Concept_history_id\": \"[4752]\", \"Logical_type\": \"[1]\", \"Coding_system_id\": \"[5]\", \"Coding_system_name\": \"[\\\\\"Read codes v2\\\\\"]\", \"PIDs\": \"[\\\\\"HP000636\\\\\"]\", \"Component_history_id\": \"[2698]\", \"Concept_history_date\": \"[\\\\\"2021-10-06T16:19:42.629679Z\\\\\"]\", \"Code\": \"[\\\\\"22K9\\\\\"]\", \"Codelist_history_id\": \"[2644]\", \"CID\": \"HC032527\", \"Phenotype_version_id\": \"[896]\", \"Phenotype_name\": \"[\\\\\"BMI\\\\\"]\", \"Codelist_id\": \"[2011]\", \"Coding_system_description\": \"[\\\\\"Read codes v2\\\\\"]\", \"Component_id\": \"[2011]\", \"ID\": 96406, \"Phenotype_id\": \"[\\\\\"PH448\\\\\"]\", \"Concept_id\": \"[1807]\"}}') with type Document: did not recognize Python value type when inferring an Arrow data type"
     ]
    }
   ],
   "source": [
    "chatbot.get_result(query)"
   ]
  },
  {
   "cell_type": "code",
   "execution_count": 48,
   "id": "89eafa45",
   "metadata": {},
   "outputs": [],
   "source": [
    "\n",
    "# chatbot.query = query\n",
    "lower_query = query.lower()\n",
    "filtering_result = chatbot.filtering_chain.invoke({\"query\" : lower_query})\n",
    "\n",
    "if filtering_result:\n",
    "    metadata_filter = filtering_result\n",
    "else:\n",
    "    metadata_filter = None\n",
    "retriever = chatbot.vector_db.as_retriever(search_type=\"mmr\", search_kwargs = {\"k\": 10, \"filter\":metadata_filter, 'fetch_k':1000})\n",
    "response = retriever.invoke(query)\n",
    "\n",
    "\n",
    "tupled_doc = [(doc.metadata,doc.page_content) for doc in response]\n",
    "\n",
    "result = chatbot.generator_chain.invoke({\"query\": query, \"content\" : tupled_doc})"
   ]
  },
  {
   "cell_type": "code",
   "execution_count": 49,
   "id": "cc794f8d",
   "metadata": {},
   "outputs": [
    {
     "data": {
      "text/plain": [
       "[({'website_name': 'hdruk', 'phenotype_name': 'bmi'},\n",
       "  '{\"detail_props\": {\"Implementation\": \"Unknown value\", \"Phenoflow_id\": \"Unknown value\", \"Name\": \"BMI\", \"Tags\": \"Unknown value\", \"Status\": 2, \"Is_deleted\": \"Unknown value\"}, \"concept_props\": {\"Description\": \"Body mass index centile\", \"Concept_history_id\": \"[4752]\", \"Logical_type\": \"[1]\", \"Coding_system_id\": \"[5]\", \"Coding_system_name\": \"[\\\\\"Read codes v2\\\\\"]\", \"PIDs\": \"[\\\\\"HP000636\\\\\"]\", \"Component_history_id\": \"[2698]\", \"Concept_history_date\": \"[\\\\\"2021-10-06T16:19:42.629679Z\\\\\"]\", \"Code\": \"[\\\\\"22K9\\\\\"]\", \"Codelist_history_id\": \"[2644]\", \"CID\": \"HC032527\", \"Phenotype_version_id\": \"[896]\", \"Phenotype_name\": \"[\\\\\"BMI\\\\\"]\", \"Codelist_id\": \"[2011]\", \"Coding_system_description\": \"[\\\\\"Read codes v2\\\\\"]\", \"Component_id\": \"[2011]\", \"ID\": 96406, \"Phenotype_id\": \"[\\\\\"PH448\\\\\"]\", \"Concept_id\": \"[1807]\"}}'),\n",
       " ({'phenotype_name': 'bmi', 'website_name': 'hdruk'},\n",
       "  '{\"detail_props\": {\"Implementation\": \"Unknown value\", \"Phenoflow_id\": \"Unknown value\", \"Name\": \"BMI\", \"Tags\": \"Unknown value\", \"Status\": 2, \"Is_deleted\": \"Unknown value\"}, \"concept_props\": {\"Description\": \"Body Mass Index\", \"Concept_history_id\": \"[4752]\", \"Logical_type\": \"[1]\", \"Coding_system_id\": \"[5]\", \"Coding_system_name\": \"[\\\\\"Read codes v2\\\\\"]\", \"PIDs\": \"[\\\\\"HP000636\\\\\"]\", \"Component_history_id\": \"[2698]\", \"Concept_history_date\": \"[\\\\\"2021-10-06T16:19:42.629679Z\\\\\"]\", \"Code\": \"[\\\\\"22K\\\\\"]\", \"Codelist_history_id\": \"[2644]\", \"CID\": \"HC032458\", \"Phenotype_version_id\": \"[896]\", \"Phenotype_name\": \"[\\\\\"BMI\\\\\"]\", \"Codelist_id\": \"[2011]\", \"Coding_system_description\": \"[\\\\\"Read codes v2\\\\\"]\", \"Component_id\": \"[2011]\", \"ID\": 96405, \"Phenotype_id\": \"[\\\\\"PH448\\\\\"]\", \"Concept_id\": \"[1807]\"}}'),\n",
       " ({'phenotype_name': 'bmi', 'website_name': 'hdruk'},\n",
       "  '{\"detail_props\": {\"Implementation\": \"Unknown value\", \"Phenoflow_id\": \"Unknown value\", \"Name\": \"BMI\", \"Tags\": \"Unknown value\", \"Status\": 2, \"Is_deleted\": \"Unknown value\"}, \"concept_props\": {\"Description\": \"Body mass index 18.5-24.9\", \"Concept_history_id\": \"[4752]\", \"Logical_type\": \"[1]\", \"Coding_system_id\": \"[5]\", \"Coding_system_name\": \"[\\\\\"Read codes v2\\\\\"]\", \"PIDs\": \"[\\\\\"HP000636\\\\\"]\", \"Component_history_id\": \"[2698]\", \"Concept_history_date\": \"[\\\\\"2021-10-06T16:19:42.629679Z\\\\\"]\", \"Code\": \"[\\\\\"JHCBO5\\\\\"]\", \"Codelist_history_id\": \"[2644]\", \"CID\": \"HC032488\", \"Phenotype_version_id\": \"[896]\", \"Phenotype_name\": \"[\\\\\"BMI\\\\\"]\", \"Codelist_id\": \"[2011]\", \"Coding_system_description\": \"[\\\\\"Read codes v2\\\\\"]\", \"Component_id\": \"[2011]\", \"ID\": 96402, \"Phenotype_id\": \"[\\\\\"PH448\\\\\"]\", \"Concept_id\": \"[1807]\"}}'),\n",
       " ({'website_name': 'hdruk', 'phenotype_name': 'bmi'},\n",
       "  '{\"detail_props\": {\"Implementation\": \"Unknown value\", \"Phenoflow_id\": \"Unknown value\", \"Name\": \"BMI\", \"Tags\": \"Unknown value\", \"Status\": 2, \"Is_deleted\": \"Unknown value\"}, \"concept_props\": {\"Description\": \"Body Mass Index low K/M2\", \"Concept_history_id\": \"[4752]\", \"Logical_type\": \"[1]\", \"Coding_system_id\": \"[5]\", \"Coding_system_name\": \"[\\\\\"Read codes v2\\\\\"]\", \"PIDs\": \"[\\\\\"HP000636\\\\\"]\", \"Component_history_id\": \"[2698]\", \"Concept_history_date\": \"[\\\\\"2021-10-06T16:19:42.629679Z\\\\\"]\", \"Code\": \"[\\\\\"22K3\\\\\"]\", \"Codelist_history_id\": \"[2644]\", \"CID\": \"HC032472\", \"Phenotype_version_id\": \"[896]\", \"Phenotype_name\": \"[\\\\\"BMI\\\\\"]\", \"Codelist_id\": \"[2011]\", \"Coding_system_description\": \"[\\\\\"Read codes v2\\\\\"]\", \"Component_id\": \"[2011]\", \"ID\": 96412, \"Phenotype_id\": \"[\\\\\"PH448\\\\\"]\", \"Concept_id\": \"[1807]\"}}'),\n",
       " ({'phenotype_name': 'bmi', 'website_name': 'hdruk'},\n",
       "  '{\"detail_props\": {\"Implementation\": \"Unknown value\", \"Phenoflow_id\": \"Unknown value\", \"Name\": \"BMI\", \"Tags\": \"Unknown value\", \"Status\": 2, \"Is_deleted\": \"Unknown value\"}, \"concept_props\": {\"Description\": \"Baseline body mass index\", \"Concept_history_id\": \"[4752]\", \"Logical_type\": \"[1]\", \"Coding_system_id\": \"[5]\", \"Coding_system_name\": \"[\\\\\"Read codes v2\\\\\"]\", \"PIDs\": \"[\\\\\"HP000636\\\\\"]\", \"Component_history_id\": \"[2698]\", \"Concept_history_date\": \"[\\\\\"2021-10-06T16:19:42.629679Z\\\\\"]\", \"Code\": \"[\\\\\"22KB\\\\\"]\", \"Codelist_history_id\": \"[2644]\", \"CID\": \"HC029453\", \"Phenotype_version_id\": \"[896]\", \"Phenotype_name\": \"[\\\\\"BMI\\\\\"]\", \"Codelist_id\": \"[2011]\", \"Coding_system_description\": \"[\\\\\"Read codes v2\\\\\"]\", \"Component_id\": \"[2011]\", \"ID\": 96404, \"Phenotype_id\": \"[\\\\\"PH448\\\\\"]\", \"Concept_id\": \"[1807]\"}}'),\n",
       " ({'website_name': 'hdruk', 'phenotype_name': 'bmi'},\n",
       "  '{\"detail_props\": {\"Implementation\": \"Unknown value\", \"Phenoflow_id\": \"Unknown value\", \"Name\": \"BMI\", \"Tags\": \"Unknown value\", \"Status\": 2, \"Is_deleted\": \"Unknown value\"}, \"concept_props\": {\"Description\": \"Body mass index less than 18.5\", \"Concept_history_id\": \"[4752]\", \"Logical_type\": \"[1]\", \"Coding_system_id\": \"[5]\", \"Coding_system_name\": \"[\\\\\"Read codes v2\\\\\"]\", \"PIDs\": \"[\\\\\"HP000636\\\\\"]\", \"Component_history_id\": \"[2698]\", \"Concept_history_date\": \"[\\\\\"2021-10-06T16:19:42.629679Z\\\\\"]\", \"Code\": \"[\\\\\"EMISNQBO29\\\\\"]\", \"Codelist_history_id\": \"[2644]\", \"CID\": \"HC032541\", \"Phenotype_version_id\": \"[896]\", \"Phenotype_name\": \"[\\\\\"BMI\\\\\"]\", \"Codelist_id\": \"[2011]\", \"Coding_system_description\": \"[\\\\\"Read codes v2\\\\\"]\", \"Component_id\": \"[2011]\", \"ID\": 96403, \"Phenotype_id\": \"[\\\\\"PH448\\\\\"]\", \"Concept_id\": \"[1807]\"}}'),\n",
       " ({'phenotype_name': 'bmi', 'website_name': 'hdruk'},\n",
       "  '{\"detail_props\": {\"Implementation\": \"Unknown value\", \"Phenoflow_id\": \"Unknown value\", \"Name\": \"BMI\", \"Tags\": \"Unknown value\", \"Status\": 2, \"Is_deleted\": \"Unknown value\"}, \"concept_props\": {\"Description\": \"Body Mass Index normal K/M2\", \"Concept_history_id\": \"[4752]\", \"Logical_type\": \"[1]\", \"Coding_system_id\": \"[5]\", \"Coding_system_name\": \"[\\\\\"Read codes v2\\\\\"]\", \"PIDs\": \"[\\\\\"HP000636\\\\\"]\", \"Component_history_id\": \"[2698]\", \"Concept_history_date\": \"[\\\\\"2021-10-06T16:19:42.629679Z\\\\\"]\", \"Code\": \"[\\\\\"22K1\\\\\"]\", \"Codelist_history_id\": \"[2644]\", \"CID\": \"HC032478\", \"Phenotype_version_id\": \"[896]\", \"Phenotype_name\": \"[\\\\\"BMI\\\\\"]\", \"Codelist_id\": \"[2011]\", \"Coding_system_description\": \"[\\\\\"Read codes v2\\\\\"]\", \"Component_id\": \"[2011]\", \"ID\": 96411, \"Phenotype_id\": \"[\\\\\"PH448\\\\\"]\", \"Concept_id\": \"[1807]\"}}'),\n",
       " ({'phenotype_name': 'bmi', 'website_name': 'hdruk'},\n",
       "  '{\"detail_props\": {\"Implementation\": \"Unknown value\", \"Phenoflow_id\": \"Unknown value\", \"Name\": \"BMI\", \"Tags\": \"Unknown value\", \"Status\": 2, \"Is_deleted\": \"Unknown value\"}, \"concept_props\": {\"Description\": \"Body Mass Index high K/M2\", \"Concept_history_id\": \"[4752]\", \"Logical_type\": \"[1]\", \"Coding_system_id\": \"[5]\", \"Coding_system_name\": \"[\\\\\"Read codes v2\\\\\"]\", \"PIDs\": \"[\\\\\"HP000636\\\\\"]\", \"Component_history_id\": \"[2698]\", \"Concept_history_date\": \"[\\\\\"2021-10-06T16:19:42.629679Z\\\\\"]\", \"Code\": \"[\\\\\"22K2\\\\\"]\", \"Codelist_history_id\": \"[2644]\", \"CID\": \"HC032465\", \"Phenotype_version_id\": \"[896]\", \"Phenotype_name\": \"[\\\\\"BMI\\\\\"]\", \"Codelist_id\": \"[2011]\", \"Coding_system_description\": \"[\\\\\"Read codes v2\\\\\"]\", \"Component_id\": \"[2011]\", \"ID\": 96408, \"Phenotype_id\": \"[\\\\\"PH448\\\\\"]\", \"Concept_id\": \"[1807]\"}}'),\n",
       " ({'phenotype_name': 'bmi', 'website_name': 'hdruk'},\n",
       "  '{\"pname\": \"bmi\", \"phenotype_props\": {\"id\": \"HXXXX0200\", \"name\": \"BMI\", \"hdruk_PID\": \"HP000636\"}, \"website_props\": {\"name\": \"hdruk\", \"pid\": {\"0\": \"HP000636\"}}, \"detail_props\": {\"Updated\": \"2021-10-06T16:19:43.330536Z\", \"Group_access\": 1, \"Event_end_date\": \"2013-12-31T00:00:00.00Z\", \"Defination\": \"A cohort study based on primary care data from the QResearch database will include patients with one of the three common tumours: breast, bowel and prostate. The primary outcome will be overall survival from the date of cancer diagnosis. Cox proportional hazards regression will be used to compare the survival of patients with cancer taking VGSC-inhibiting drugs (including anticonvulsants and class I antiarrhythmic agents) with patients with cancer not exposed to these drugs, adjusting for age and sex. Exposure to VGSC-inhibiting drugs will be defined as having at least one prescription for these drugs prior to cancer diagnosis. High and low exposure groups will be identified based on the length of use. A number of sensitivity and secondary analyses will be conducted.\\\\n\\\\n\\\\n\\\\n\\\\n\\\\n\\\\n\\\\n\\\\n\"}}'),\n",
       " ({'phenotype_name': 'bmi', 'website_name': 'hdruk'},\n",
       "  '{\"detail_props\": {\"PID\": \"HP000636\", \"Type\": \"Biomarker\", \"Validation\": \"Unknown value\", \"Group\": \"Unknown value\", \"Phenotype_version_id\": 896, \"author\": \"Caroline Fairhurst, Ian Watt, Fabiola Martin, Martin Bland, William J Brackenbury\", \"Created\": \"2021-10-06T16:19:43.330508Z\", \"World_access\": 1, \"Coding_system\": \"Read codes v2\", \"Phenotype_id\": \"PH448\", \"Sex\": \"Both\", \"Owner\": \"ieuan.scanlon\", \"Data_sources\": \"{\\\\\"QResearch\\\\\": \\\\\"https://web.www.healthdatagateway.org/dataset/777d6ac1-6879-4750-9a85-9e42d28bb8d4\\\\\"}\", \"Collections\": {\"0\": \"ClinicalCodes Repository\", \"1\": \"Phenotype Library\"}, \"Event_start_date\": \"1998-01-01T00:00:00.00Z\", \"Citation_requirements\": \"Unknown value\", \"Publications\": \"[\\\\\"{\\\\\\\\\\\\\"doi\\\\\\\\\\\\\": null, \\\\\\\\\\\\\"details\\\\\\\\\\\\\": \\\\\\\\\\\\\"Caroline Fairhurst, Ian Watt, Fabiola Martin, Martin Bland, William J Brackenburry, Exposure to sodium channel-inhibiting drugs and cancer survival protocol for a cohort study using the QResearch primary care database. BMJ Open, 4:e006604 2014.\\\\\\\\\\\\\"}\\\\\"]\"}}')]"
      ]
     },
     "execution_count": 49,
     "metadata": {},
     "output_type": "execute_result"
    }
   ],
   "source": [
    "tupled_doc"
   ]
  },
  {
   "cell_type": "code",
   "execution_count": 52,
   "id": "2cea7231",
   "metadata": {},
   "outputs": [
    {
     "data": {
      "text/plain": [
       "{'id': '85d14a61-89d8-4e2c-8a8d-e1f6e005804a',\n",
       " 'metadata': {'website_name': 'hdruk', 'phenotype_name': 'bmi'},\n",
       " 'page_content': '{\"detail_props\": {\"Implementation\": \"Unknown value\", \"Phenoflow_id\": \"Unknown value\", \"Name\": \"BMI\", \"Tags\": \"Unknown value\", \"Status\": 2, \"Is_deleted\": \"Unknown value\"}, \"concept_props\": {\"Description\": \"Body mass index centile\", \"Concept_history_id\": \"[4752]\", \"Logical_type\": \"[1]\", \"Coding_system_id\": \"[5]\", \"Coding_system_name\": \"[\\\\\"Read codes v2\\\\\"]\", \"PIDs\": \"[\\\\\"HP000636\\\\\"]\", \"Component_history_id\": \"[2698]\", \"Concept_history_date\": \"[\\\\\"2021-10-06T16:19:42.629679Z\\\\\"]\", \"Code\": \"[\\\\\"22K9\\\\\"]\", \"Codelist_history_id\": \"[2644]\", \"CID\": \"HC032527\", \"Phenotype_version_id\": \"[896]\", \"Phenotype_name\": \"[\\\\\"BMI\\\\\"]\", \"Codelist_id\": \"[2011]\", \"Coding_system_description\": \"[\\\\\"Read codes v2\\\\\"]\", \"Component_id\": \"[2011]\", \"ID\": 96406, \"Phenotype_id\": \"[\\\\\"PH448\\\\\"]\", \"Concept_id\": \"[1807]\"}}',\n",
       " 'type': 'Document'}"
      ]
     },
     "execution_count": 52,
     "metadata": {},
     "output_type": "execute_result"
    }
   ],
   "source": [
    "response[0].model_dump()"
   ]
  },
  {
   "cell_type": "code",
   "execution_count": null,
   "id": "0d2425c9",
   "metadata": {},
   "outputs": [],
   "source": []
  }
 ],
 "metadata": {
  "kernelspec": {
   "display_name": "base",
   "language": "python",
   "name": "python3"
  },
  "language_info": {
   "codemirror_mode": {
    "name": "ipython",
    "version": 3
   },
   "file_extension": ".py",
   "mimetype": "text/x-python",
   "name": "python",
   "nbconvert_exporter": "python",
   "pygments_lexer": "ipython3",
   "version": "3.12.7"
  }
 },
 "nbformat": 4,
 "nbformat_minor": 5
}
