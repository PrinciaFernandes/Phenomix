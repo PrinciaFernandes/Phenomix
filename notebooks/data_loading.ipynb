{
 "cells": [
  {
   "cell_type": "code",
   "execution_count": 1,
   "id": "a8b9002e",
   "metadata": {},
   "outputs": [],
   "source": [
    "import os \n"
   ]
  },
  {
   "cell_type": "code",
   "execution_count": 3,
   "id": "0d321ead",
   "metadata": {},
   "outputs": [
    {
     "data": {
      "text/plain": [
       "'c:\\\\Users\\\\PrinciaFernandes\\\\Mresult\\\\Phenomix\\\\notebooks'"
      ]
     },
     "execution_count": 3,
     "metadata": {},
     "output_type": "execute_result"
    }
   ],
   "source": [
    "%pwd\n"
   ]
  },
  {
   "cell_type": "code",
   "execution_count": 4,
   "id": "b2857be5",
   "metadata": {},
   "outputs": [],
   "source": [
    "os.chdir(\"../\")"
   ]
  },
  {
   "cell_type": "code",
   "execution_count": 5,
   "id": "ac3c9c0f",
   "metadata": {},
   "outputs": [
    {
     "data": {
      "text/plain": [
       "'c:\\\\Users\\\\PrinciaFernandes\\\\Mresult\\\\Phenomix'"
      ]
     },
     "execution_count": 5,
     "metadata": {},
     "output_type": "execute_result"
    }
   ],
   "source": [
    "%pwd"
   ]
  },
  {
   "cell_type": "code",
   "execution_count": 6,
   "id": "9d4cfda5",
   "metadata": {},
   "outputs": [],
   "source": [
    "from tqdm import tqdm\n",
    "from src.database.load_vector_data import DataLoader"
   ]
  },
  {
   "cell_type": "code",
   "execution_count": 7,
   "id": "79f6eccf",
   "metadata": {},
   "outputs": [
    {
     "name": "stdout",
     "output_type": "stream",
     "text": [
      "Extracting Data\n",
      "Data Extraction Completed\n",
      "Chunking Completed\n"
     ]
    },
    {
     "name": "stderr",
     "output_type": "stream",
     "text": [
      "Embedding Batches: 100%|██████████| 5/5 [01:53<00:00, 22.63s/it]\n"
     ]
    }
   ],
   "source": [
    "dataloader = DataLoader()\n",
    "records = dataloader.get_records()\n",
    "document = dataloader.data_chuncking(records)\n",
    "vector_db = dataloader.get_vector_db()\n",
    "\n",
    "# Process documents in batches\n",
    "BATCH_SIZE = 500\n",
    "for i in tqdm(range(0, len(document), BATCH_SIZE), desc=\"Embedding Batches\"):\n",
    "    batch = document[i:i + BATCH_SIZE]  # Get batch slice\n",
    "    vector_db.add_documents(batch)"
   ]
  },
  {
   "cell_type": "code",
   "execution_count": null,
   "id": "7ca2f34b",
   "metadata": {},
   "outputs": [],
   "source": []
  },
  {
   "cell_type": "code",
   "execution_count": 24,
   "id": "5f64799a",
   "metadata": {},
   "outputs": [],
   "source": [
    "from langchain_core.output_parsers import JsonOutputParser\n",
    "from langchain_chroma import Chroma\n",
    "from src.prompts.Prompts import Filter_template ,Generator_template\n",
    "from dotenv import load_dotenv\n",
    "from src.llm_model.gemini_model import embedding_model,chat_model\n",
    "from src.config import VECTORDB_DIR\n",
    "import os\n"
   ]
  },
  {
   "cell_type": "code",
   "execution_count": null,
   "id": "50a5436e",
   "metadata": {},
   "outputs": [],
   "source": [
    "\n",
    "load_dotenv()\n",
    "\n",
    "class ChatBot:\n",
    "    def __init__(self):\n",
    "\n",
    "        self.embeddings = embedding_model()\n",
    "        self.vector_db = Chroma(embedding_function=self.embeddings, persist_directory=VECTORDB_DIR)\n",
    "        self.llm = chat_model()\n",
    "        self.parser = JsonOutputParser()\n",
    "        self.filtering_chain = Filter_template | self.llm | self.parser\n",
    "        self.generator_chain = Generator_template | self.llm\n",
    "\n",
    "\n",
    "    def get_result(self, query):\n",
    "\n",
    "        lower_query = query.lower()\n",
    "        filtering_result = self.filtering_chain.invoke({\"query\" : lower_query})\n",
    "        print(filtering_result)\n",
    "        \n",
    "        retriever = self.vector_db.as_retriever(search_type=\"mmr\", search_kwargs = {\"k\": 10, \"filter\":filtering_result, 'fetch_k':1000})\n",
    "        response = retriever.invoke(query)\n",
    "\n",
    "        tupled_doc = [(doc.metadata,doc.page_content) for doc in response]\n",
    "\n",
    "        result = self.generator_chain.invoke({\"query\": query, \"content\" : tupled_doc})\n",
    "\n",
    "        return result.content\n",
    "    \n"
   ]
  },
  {
   "cell_type": "code",
   "execution_count": 26,
   "id": "8c37b0d6",
   "metadata": {},
   "outputs": [
    {
     "name": "stdout",
     "output_type": "stream",
     "text": [
      "{'phenotype_name': 'Peanut Allergy'}\n",
      "I am unable to provide a response as the content is empty.\n"
     ]
    }
   ],
   "source": [
    "# user_input = input(\"Enter your query: \").lower()\n",
    "# output = get_result(query=user_input)\n",
    "# print(\"\\nFinal Result:\\n\", output)\n",
    "chatbot = ChatBot()\n",
    "result = chatbot.get_result(\"Give a brief on Peanut Allergy?\")\n",
    "print(result)"
   ]
  },
  {
   "cell_type": "code",
   "execution_count": 27,
   "id": "fb2b0ee5",
   "metadata": {},
   "outputs": [
    {
     "name": "stdout",
     "output_type": "stream",
     "text": [
      "{'phenotype_name': 'Peanut Allergy'}\n"
     ]
    }
   ],
   "source": [
    "filtering_result = chatbot.filtering_chain.invoke({\"query\" : \"Give a brief on Peanut Allergy?\"})\n",
    "print(filtering_result)"
   ]
  },
  {
   "cell_type": "code",
   "execution_count": 37,
   "id": "0fd168e2",
   "metadata": {},
   "outputs": [
    {
     "name": "stdout",
     "output_type": "stream",
     "text": [
      "{'phenotype_name': 'acne'}\n"
     ]
    }
   ],
   "source": [
    "query = \"What are PID of Acne?\"\n",
    "\n",
    "lower_query = query.lower()\n",
    "filtering_result = chatbot.filtering_chain.invoke({\"query\" : lower_query})\n",
    "print(filtering_result)"
   ]
  },
  {
   "cell_type": "code",
   "execution_count": 38,
   "id": "1f41c2d9",
   "metadata": {},
   "outputs": [],
   "source": [
    "retriever = chatbot.vector_db.as_retriever(search_type=\"mmr\", search_kwargs = {\"k\": 10, \"filter\":filtering_result, 'fetch_k':1000})\n",
    "response = retriever.invoke(query)\n"
   ]
  },
  {
   "cell_type": "code",
   "execution_count": 39,
   "id": "4175964b",
   "metadata": {},
   "outputs": [
    {
     "data": {
      "text/plain": [
       "[Document(id='4a68184c-b2e7-4043-a1f9-4324438f747b', metadata={'phenotype_name': 'acne', 'website_name': 'cprd'}, page_content='{\"pname\": \"acne\", \"phenotype_props\": {\"id\": \"HXCXX0024\", \"name\": \"Acne\", \"cprd_PID\": \"CP000003\", \"hdruk_PID\": \"HP001121\"}, \"website_props\": {\"name\": \"cprd\", \"pid\": {\"0\": \"CP000003\"}}, \"detail_props\": {\"Disease_num\": 3, \"Disease\": \"Acne\", \"PID\": \"CP000003\"}, \"concept_props\": {\"Disease_num\": \"[3]\", \"Description\": \"Iodine acne\", \"Disease\": \"[\\\\\"Acne\\\\\"]\", \"Med_code_id\": \"[309116010]\", \"PIDs\": \"[\\\\\"CP000003\\\\\"]\", \"System_num\": \"[15]\", \"Read_code\": \"M261400\", \"Snomed_ct_description_id\": \"[309116010]\", \"CID\": \"CC008401\", \"Category\": \"[\\\\\"Diagnosis of Acne\\\\\"]\", \"Snomed_ct_concept_id\": \"[201217006]\", \"Mapping\": \"[\\\\\"cleansedreadcode\\\\\"]\", \"System\": \"[\\\\\"Skin conditions\\\\\"]\", \"Med_code\": \"[67453.0]\"}}'),\n",
       " Document(id='9fc2c18a-3aae-4f27-9ab1-46423a47f8f2', metadata={'website_name': 'cprd', 'phenotype_name': 'acne'}, page_content='{\"pname\": \"acne\", \"phenotype_props\": {\"id\": \"HXCXX0024\", \"name\": \"Acne\", \"cprd_PID\": \"CP000003\", \"hdruk_PID\": \"HP001121\"}, \"website_props\": {\"name\": \"cprd\", \"pid\": {\"0\": \"CP000003\"}}, \"detail_props\": {\"Disease_num\": 3, \"Disease\": \"Acne\", \"PID\": \"CP000003\"}, \"concept_props\": {\"Disease_num\": \"[3]\", \"Description\": \"acne fulminans\", \"Disease\": \"[\\\\\"Acne\\\\\"]\", \"Med_code_id\": \"[982841000006114]\", \"PIDs\": \"[\\\\\"CP000003\\\\\"]\", \"System_num\": \"[15]\", \"Read_code\": \"982841000006114\", \"Snomed_ct_description_id\": \"[982841000006114]\", \"CID\": \"CC002413\", \"Category\": \"[\\\\\"Diagnosis of Acne\\\\\"]\", \"Snomed_ct_concept_id\": \"[982841000006105]\", \"Mapping\": \"[\\\\\"originalreadcode\\\\\"]\", \"System\": \"[\\\\\"Skin conditions\\\\\"]\", \"Med_code\": \"[NaN]\"}}'),\n",
       " Document(id='c226297e-e185-46bc-a823-4821d717d7a2', metadata={'phenotype_name': 'acne', 'website_name': 'cprd'}, page_content='{\"pname\": \"acne\", \"phenotype_props\": {\"id\": \"HXCXX0024\", \"name\": \"Acne\", \"cprd_PID\": \"CP000003\", \"hdruk_PID\": \"HP001121\"}, \"website_props\": {\"name\": \"cprd\", \"pid\": {\"0\": \"CP000003\"}}, \"detail_props\": {\"Disease_num\": 3, \"Disease\": \"Acne\", \"PID\": \"CP000003\"}, \"concept_props\": {\"Disease_num\": \"[3]\", \"Description\": \"Blackhead\", \"Disease\": \"[\\\\\"Acne\\\\\"]\", \"Med_code_id\": \"[369535010]\", \"PIDs\": \"[\\\\\"CP000003\\\\\"]\", \"System_num\": \"[15]\", \"Read_code\": \"M261011\", \"Snomed_ct_description_id\": \"[369535010]\", \"CID\": \"CC008396\", \"Category\": \"[\\\\\"Diagnosis of Acne\\\\\"]\", \"Snomed_ct_concept_id\": \"[247467008]\", \"Mapping\": \"[\\\\\"cleansedreadcode\\\\\"]\", \"System\": \"[\\\\\"Skin conditions\\\\\"]\", \"Med_code\": \"[8065.0]\"}}'),\n",
       " Document(id='7a959fdb-3fd8-4c84-9f22-916e0a2efb8c', metadata={'phenotype_name': 'acne', 'website_name': 'cprd'}, page_content='{\"pname\": \"acne\", \"phenotype_props\": {\"id\": \"HXCXX0024\", \"name\": \"Acne\", \"cprd_PID\": \"CP000003\", \"hdruk_PID\": \"HP001121\"}, \"website_props\": {\"name\": \"cprd\", \"pid\": {\"0\": \"CP000003\"}}, \"detail_props\": {\"Disease_num\": 3, \"Disease\": \"Acne\", \"PID\": \"CP000003\"}, \"concept_props\": {\"Disease_num\": \"[3]\", \"Description\": \"Giant comedo\", \"Disease\": \"[\\\\\"Acne\\\\\"]\", \"Med_code_id\": \"[43904014]\", \"PIDs\": \"[\\\\\"CP000003\\\\\"]\", \"System_num\": \"[15]\", \"Read_code\": \"M26y200\", \"Snomed_ct_description_id\": \"[1782404010]\", \"CID\": \"CC008419\", \"Category\": \"[\\\\\"Diagnosis of Acne\\\\\"]\", \"Snomed_ct_concept_id\": \"[403357002]\", \"Mapping\": \"[\\\\\"cleansedreadcode\\\\\"]\", \"System\": \"[\\\\\"Skin conditions\\\\\"]\", \"Med_code\": \"[9058.0]\"}}'),\n",
       " Document(id='76e16829-52ea-4026-9b79-078b931d65e9', metadata={'phenotype_name': 'acne', 'website_name': 'cprd'}, page_content='{\"pname\": \"acne\", \"phenotype_props\": {\"id\": \"HXCXX0024\", \"name\": \"Acne\", \"cprd_PID\": \"CP000003\", \"hdruk_PID\": \"HP001121\"}, \"website_props\": {\"name\": \"cprd\", \"pid\": {\"0\": \"CP000003\"}}, \"detail_props\": {\"Disease_num\": 3, \"Disease\": \"Acne\", \"PID\": \"CP000003\"}, \"concept_props\": {\"Disease_num\": \"[3]\", \"Description\": \"SAPHO syndrome Synov, Acne, Pustul, Hyperost, Osteomyelitis\", \"Disease\": \"[\\\\\"Acne\\\\\"]\", \"Med_code_id\": \"[161571000006113]\", \"PIDs\": \"[\\\\\"CP000003\\\\\"]\", \"System_num\": \"[15]\", \"Read_code\": \"N25..00\", \"Snomed_ct_description_id\": \"[100823019]\", \"CID\": \"CC008964\", \"Category\": \"[\\\\\"Diagnosis of Acne\\\\\"]\", \"Snomed_ct_concept_id\": \"[60684003]\", \"Mapping\": \"[\\\\\"cleansedreadcode\\\\\"]\", \"System\": \"[\\\\\"Skin conditions\\\\\"]\", \"Med_code\": \"[25737.0]\"}}'),\n",
       " Document(id='786b3ffa-0c46-4b0e-a298-c6fae32b1115', metadata={'phenotype_name': 'acne', 'website_name': 'hdruk'}, page_content='{\"pname\": \"acne\", \"phenotype_props\": {\"id\": \"HXCXX0024\", \"name\": \"Acne\", \"cprd_PID\": \"CP000003\", \"hdruk_PID\": \"HP001121\"}, \"website_props\": {\"name\": \"hdruk\", \"pid\": {\"0\": \"HP001121\"}}, \"detail_props\": {\"Updated\": \"2021-10-06T16:02:41.256047Z\", \"Group_access\": 1, \"Event_end_date\": \"2016-07-01T00:00:00.00Z\", \"Defination\": \"At the specified date, a patient is defined as having had \\'Acne\\' IF they meet the criteria for any of the following on or before the specified date. The earliest date on which the individual meets any of the following criteria on or before the specified date is defined as the first event date:\\\\n\\\\n\\\\nPrimary care\\\\n\\\\n\\\\n1. \\'Acne\\' diagnosis or history of diagnosis during a consultation \\\\n\\\\nOR\\\\nSecondary care (ICD10)\\\\n\\\\n\\\\n1. ALL diagnoses of \\'Acne\\' or history of diagnosis during a hospitalization\\\\n\\\\n\\\\n\\\\n\\\\n\\\\n\\\\n\\\\n\\\\n\\\\n\\\\n\\\\n\\\\n\", \"PID\": \"HP001121\", \"Type\": \"Disease or syndrome\", \"Validation\": \"Unknown value\", \"Group\": \"Unknown value\", \"Phenotype_version_id\": 182, \"author\": \"Kuan V, Denaxas S, Gonzalez-Izquierdo A, Direk K, Bhatti O, Husain S, Sutaria S, Hingorani M, Nitsch D, Parisinos C, Lumbers T, Mathur R, Sofat R, Casas JP, Wong I, Hemingway H, Hingorani A\"}}'),\n",
       " Document(id='ae9d3d85-6c3a-4b74-8691-a60e53d9b3da', metadata={'phenotype_name': 'acne', 'website_name': 'hdruk'}, page_content='{\"detail_props\": {\"Status\": 2, \"Is_deleted\": \"Unknown value\"}, \"concept_props\": {\"Description\": \"Other acne\", \"Concept_history_id\": \"[3015]\", \"Logical_type\": \"[1]\", \"Coding_system_id\": \"[4]\", \"Coding_system_name\": \"[\\\\\"ICD10 codes\\\\\"]\", \"PIDs\": \"[\\\\\"HP001121\\\\\"]\", \"Component_history_id\": \"[1829]\", \"Concept_history_date\": \"[\\\\\"2021-10-06T16:02:40.341969Z\\\\\"]\", \"Code\": \"[\\\\\"L70.8\\\\\"]\", \"Codelist_history_id\": \"[1775]\", \"CID\": \"HC153363\", \"Phenotype_version_id\": \"[182]\", \"Phenotype_name\": \"[\\\\\"Acne\\\\\"]\", \"Codelist_id\": \"[1142]\", \"Coding_system_description\": \"[\\\\\"ICD10 Codes\\\\\"]\", \"Component_id\": \"[1142]\", \"ID\": 56327, \"Phenotype_id\": \"[\\\\\"PH91\\\\\"]\", \"Concept_id\": \"[938]\"}}'),\n",
       " Document(id='a520d94b-b23f-413b-818b-5f2f19507316', metadata={'phenotype_name': 'acne', 'website_name': 'hdruk'}, page_content='{\"detail_props\": {\"Created\": \"2021-10-06T16:02:41.256018Z\", \"World_access\": 1, \"Coding_system\": \"ICD10 codes\", \"Phenotype_id\": \"PH91\", \"Sex\": \"Both\", \"Owner\": \"ieuan.scanlon\", \"Data_sources\": \"{\\\\\"CPRD GOLD\\\\\": \\\\\"https://web.www.healthdatagateway.org/dataset/a29feafa-7bdd-44e9-b977-c9d26425e67f\\\\\", \\\\\"HES Admitted Patient Care data for CPRD GOLD\\\\\": \\\\\"https://web.www.healthdatagateway.org/dataset/4bcf64a6-f404-4ef4-ae6e-172512ab5f43\\\\\"}\", \"Collections\": {\"0\": \"CALIBER\", \"1\": \"Phenotype Library\"}, \"Event_start_date\": \"1999-01-01T00:00:00.00Z\", \"Citation_requirements\": \"Unknown value\", \"Publications\": \"[\\\\\"{\\\\\\\\\\\\\"doi\\\\\\\\\\\\\": \\\\\\\\\\\\\"10.1016/S2589-7500(19)30012-3\\\\\\\\\\\\\", \\\\\\\\\\\\\"details\\\\\\\\\\\\\": \\\\\\\\\\\\\"Kuan V., Denaxas S., Gonzalez-Izquierdo A. et al. A chronological map of 308 physical and mental health conditions from 4 million individuals in the National Health Service. The Lancet Digital Health - DOI 10.1016/S2589-7500(19)30012-3\\\\\\\\\\\\\"}\\\\\"]\", \"Implementation\": \"Unknown value\", \"Phenoflow_id\": 268, \"Name\": \"Acne\", \"Tags\": \"Unknown value\"}}'),\n",
       " Document(id='52b757b7-c0d0-4e88-949d-c19dde7640e6', metadata={'phenotype_name': 'acne', 'website_name': 'hdruk'}, page_content='{\"detail_props\": {\"Status\": 2, \"Is_deleted\": \"Unknown value\"}, \"concept_props\": {\"Description\": \"SAPHO syndrome Synov, Acne, Pustul, Hyperost, Osteomyelitis\", \"Concept_history_id\": \"[3011]\", \"Logical_type\": \"[1]\", \"Coding_system_id\": \"[5]\", \"Coding_system_name\": \"[\\\\\"Read codes v2\\\\\"]\", \"PIDs\": \"[\\\\\"HP001121\\\\\"]\", \"Component_history_id\": \"[1827]\", \"Concept_history_date\": \"[\\\\\"2021-10-06T16:02:39.384881Z\\\\\"]\", \"Code\": \"[\\\\\"N25..00\\\\\"]\", \"Codelist_history_id\": \"[1773]\", \"CID\": \"HC184815\", \"Phenotype_version_id\": \"[182]\", \"Phenotype_name\": \"[\\\\\"Acne\\\\\"]\", \"Codelist_id\": \"[1140]\", \"Coding_system_description\": \"[\\\\\"Read codes v2\\\\\"]\", \"Component_id\": \"[1140]\", \"ID\": 56294, \"Phenotype_id\": \"[\\\\\"PH91\\\\\"]\", \"Concept_id\": \"[936]\"}}'),\n",
       " Document(id='193ba744-4dfa-472f-9f85-73c80f4a406c', metadata={'website_name': 'hdruk', 'phenotype_name': 'acne'}, page_content='{\"detail_props\": {\"Status\": 2, \"Is_deleted\": \"Unknown value\"}, \"concept_props\": {\"Description\": \"Giant comedo\", \"Concept_history_id\": \"[3011]\", \"Logical_type\": \"[1]\", \"Coding_system_id\": \"[5]\", \"Coding_system_name\": \"[\\\\\"Read codes v2\\\\\"]\", \"PIDs\": \"[\\\\\"HP001121\\\\\"]\", \"Component_history_id\": \"[1827]\", \"Concept_history_date\": \"[\\\\\"2021-10-06T16:02:39.384881Z\\\\\"]\", \"Code\": \"[\\\\\"M26y200\\\\\"]\", \"Codelist_history_id\": \"[1773]\", \"CID\": \"HC089466\", \"Phenotype_version_id\": \"[182]\", \"Phenotype_name\": \"[\\\\\"Acne\\\\\"]\", \"Codelist_id\": \"[1140]\", \"Coding_system_description\": \"[\\\\\"Read codes v2\\\\\"]\", \"Component_id\": \"[1140]\", \"ID\": 56291, \"Phenotype_id\": \"[\\\\\"PH91\\\\\"]\", \"Concept_id\": \"[936]\"}}')]"
      ]
     },
     "execution_count": 39,
     "metadata": {},
     "output_type": "execute_result"
    }
   ],
   "source": [
    "response"
   ]
  },
  {
   "cell_type": "code",
   "execution_count": 40,
   "id": "54094138",
   "metadata": {},
   "outputs": [
    {
     "name": "stdout",
     "output_type": "stream",
     "text": [
      "The PIDs of Acne are CP000003 and HP001121.\n"
     ]
    }
   ],
   "source": [
    "tupled_doc = [(doc.metadata,doc.page_content) for doc in response]\n",
    "\n",
    "result = chatbot.generator_chain.invoke({\"query\": query, \"content\" : tupled_doc})\n",
    "\n",
    "print(result.content)"
   ]
  }
 ],
 "metadata": {
  "kernelspec": {
   "display_name": "base",
   "language": "python",
   "name": "python3"
  },
  "language_info": {
   "codemirror_mode": {
    "name": "ipython",
    "version": 3
   },
   "file_extension": ".py",
   "mimetype": "text/x-python",
   "name": "python",
   "nbconvert_exporter": "python",
   "pygments_lexer": "ipython3",
   "version": "3.12.7"
  }
 },
 "nbformat": 4,
 "nbformat_minor": 5
}
