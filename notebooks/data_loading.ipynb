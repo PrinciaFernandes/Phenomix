{
 "cells": [
  {
   "cell_type": "code",
   "execution_count": 1,
   "id": "a8b9002e",
   "metadata": {},
   "outputs": [],
   "source": [
    "import os \n"
   ]
  },
  {
   "cell_type": "code",
   "execution_count": 2,
   "id": "0d321ead",
   "metadata": {},
   "outputs": [
    {
     "data": {
      "text/plain": [
       "'c:\\\\Users\\\\PrinciaFernandes\\\\Mresult\\\\Phenomix\\\\notebooks'"
      ]
     },
     "execution_count": 2,
     "metadata": {},
     "output_type": "execute_result"
    }
   ],
   "source": [
    "%pwd\n"
   ]
  },
  {
   "cell_type": "code",
   "execution_count": 4,
   "id": "b2857be5",
   "metadata": {},
   "outputs": [],
   "source": [
    "os.chdir(\"../\")"
   ]
  },
  {
   "cell_type": "code",
   "execution_count": 5,
   "id": "ac3c9c0f",
   "metadata": {},
   "outputs": [
    {
     "data": {
      "text/plain": [
       "'c:\\\\Users\\\\PrinciaFernandes\\\\Mresult\\\\Phenomix'"
      ]
     },
     "execution_count": 5,
     "metadata": {},
     "output_type": "execute_result"
    }
   ],
   "source": [
    "%pwd"
   ]
  },
  {
   "cell_type": "code",
   "execution_count": 6,
   "id": "9d4cfda5",
   "metadata": {},
   "outputs": [],
   "source": [
    "from tqdm import tqdm\n",
    "from src.database.load_vector_data import DataLoader"
   ]
  },
  {
   "cell_type": "code",
   "execution_count": 7,
   "id": "79f6eccf",
   "metadata": {},
   "outputs": [
    {
     "name": "stdout",
     "output_type": "stream",
     "text": [
      "Extracting Data\n",
      "Data Extraction Completed\n",
      "Chunking Completed\n"
     ]
    },
    {
     "name": "stderr",
     "output_type": "stream",
     "text": [
      "Embedding Batches: 100%|██████████| 5/5 [01:53<00:00, 22.63s/it]\n"
     ]
    }
   ],
   "source": [
    "dataloader = DataLoader()\n",
    "records = dataloader.get_records()\n",
    "document = dataloader.data_chuncking(records)\n",
    "vector_db = dataloader.get_vector_db()\n",
    "\n",
    "# Process documents in batches\n",
    "BATCH_SIZE = 500\n",
    "for i in tqdm(range(0, len(document), BATCH_SIZE), desc=\"Embedding Batches\"):\n",
    "    batch = document[i:i + BATCH_SIZE]  # Get batch slice\n",
    "    vector_db.add_documents(batch)"
   ]
  }
 ],
 "metadata": {
  "kernelspec": {
   "display_name": "base",
   "language": "python",
   "name": "python3"
  },
  "language_info": {
   "codemirror_mode": {
    "name": "ipython",
    "version": 3
   },
   "file_extension": ".py",
   "mimetype": "text/x-python",
   "name": "python",
   "nbconvert_exporter": "python",
   "pygments_lexer": "ipython3",
   "version": "3.12.7"
  }
 },
 "nbformat": 4,
 "nbformat_minor": 5
}
