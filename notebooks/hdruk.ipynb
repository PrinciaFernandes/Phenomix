{
 "cells": [
  {
   "cell_type": "code",
   "execution_count": 1,
   "id": "0464db95",
   "metadata": {},
   "outputs": [
    {
     "data": {
      "text/plain": [
       "'c:\\\\Users\\\\PrinciaFernandes\\\\Mresult\\\\Phenomix\\\\notebooks'"
      ]
     },
     "execution_count": 1,
     "metadata": {},
     "output_type": "execute_result"
    }
   ],
   "source": [
    "%pwd"
   ]
  },
  {
   "cell_type": "code",
   "execution_count": 2,
   "id": "343d6c7a",
   "metadata": {},
   "outputs": [],
   "source": [
    "import os\n",
    "os.chdir(\"../\")"
   ]
  },
  {
   "cell_type": "code",
   "execution_count": 3,
   "id": "55a4e459",
   "metadata": {},
   "outputs": [
    {
     "data": {
      "text/plain": [
       "'c:\\\\Users\\\\PrinciaFernandes\\\\Mresult\\\\Phenomix'"
      ]
     },
     "execution_count": 3,
     "metadata": {},
     "output_type": "execute_result"
    }
   ],
   "source": [
    "%pwd"
   ]
  },
  {
   "cell_type": "markdown",
   "id": "05bd1312",
   "metadata": {},
   "source": [
    "# HDRUK scrapping"
   ]
  },
  {
   "cell_type": "code",
   "execution_count": 4,
   "id": "1c0b15d0",
   "metadata": {},
   "outputs": [],
   "source": [
    "import requests\n",
    "from bs4 import BeautifulSoup\n"
   ]
  },
  {
   "cell_type": "code",
   "execution_count": 5,
   "id": "882c81ea",
   "metadata": {},
   "outputs": [],
   "source": [
    "\n",
    "def hdruk_scrapping(base_url,client):\n",
    "    hdruk = []\n",
    "\n",
    "    for page in range(60,62):\n",
    "        url = f\"{base_url}{page}\"\n",
    "        response = requests.get(url)\n",
    "        print(\"Page: \",page)\n",
    "        if response.status_code == 200:\n",
    "            soup = BeautifulSoup(response.text, \"html.parser\")\n",
    "\n",
    "            # Find all phenotype titles\n",
    "            titles = soup.find_all(\"h3\", class_=\"entity-card__title\")\n",
    "\n",
    "            for title in titles:\n",
    "                phenotype_text = title.text.strip()\n",
    "                phenotype_id = phenotype_text.split()[0] \n",
    "\n",
    "                print(phenotype_id)\n",
    "                phenotype_detail = client.phenotypes.get_detail(phenotype_id)\n",
    "                try:\n",
    "                    phenotype_concept = client.phenotypes.get_codelist(phenotype_id)\n",
    "                except:\n",
    "                    phenotype_concept = []\n",
    "\n",
    "                phenotype_dictionary = {}\n",
    "                phenotype_dictionary['phenotype_id']= phenotype_detail[0]['phenotype_id']\n",
    "                phenotype_dictionary['version_id'] = phenotype_detail[0]['phenotype_version_id']\n",
    "                phenotype_dictionary['details'] = phenotype_detail\n",
    "                phenotype_dictionary['codelist'] = phenotype_concept\n",
    "                \n",
    "                hdruk.append(phenotype_dictionary)    \n",
    "        else:\n",
    "            return f\"Failed to access page {page}\"\n",
    "    return hdruk   \n",
    "\n",
    "\n"
   ]
  },
  {
   "cell_type": "code",
   "execution_count": null,
   "id": "ddbc7672",
   "metadata": {},
   "outputs": [
    {
     "data": {
      "text/plain": [
       "<function dict.items>"
      ]
     },
     "execution_count": 3,
     "metadata": {},
     "output_type": "execute_result"
    }
   ],
   "source": []
  },
  {
   "cell_type": "code",
   "execution_count": 6,
   "id": "831b7f71",
   "metadata": {},
   "outputs": [],
   "source": [
    "from src.utils import get_hdruk_client\n",
    "from src.utils import save_json\n",
    "from src.config import RAW_DIR,HDRUK_URL"
   ]
  },
  {
   "cell_type": "code",
   "execution_count": 7,
   "id": "e235d7b3",
   "metadata": {},
   "outputs": [
    {
     "name": "stdout",
     "output_type": "stream",
     "text": [
      "Page:  60\n",
      "PH1749\n",
      "PH1750\n",
      "PH1751\n",
      "PH1752\n",
      "PH1753\n",
      "PH1759\n",
      "PH1760\n",
      "PH1761\n",
      "PH1762\n",
      "PH1763\n",
      "PH1764\n",
      "PH1765\n",
      "PH1766\n",
      "PH1767\n",
      "PH1768\n",
      "PH1769\n",
      "PH1770\n",
      "PH1771\n",
      "PH1772\n",
      "PH1773\n",
      "Page:  61\n",
      "PH1774\n",
      "PH1775\n",
      "PH1776\n",
      "PH1777\n",
      "PH1778\n",
      "PH1779\n",
      "PH1780\n",
      "PH1781\n",
      "PH1782\n",
      "PH1783\n",
      "PH1784\n",
      "PH1785\n",
      "PH1786\n",
      "PH1787\n",
      "PH1788\n",
      "PH1790\n",
      "PH1791\n",
      "PH1792\n",
      "PH1793\n"
     ]
    }
   ],
   "source": [
    "\n",
    "def main():\n",
    "    base_url = HDRUK_URL\n",
    "    client = get_hdruk_client()\n",
    "    hdruk = hdruk_scrapping(base_url,client)\n",
    "    # save_json(RAW_DIR,hdruk,'HDRUK')\n",
    "    return hdruk\n",
    "hdruk = main()\n"
   ]
  },
  {
   "cell_type": "code",
   "execution_count": null,
   "id": "fca0df47",
   "metadata": {},
   "outputs": [],
   "source": [
    "import os\n",
    "import json\n",
    "from datetime import datetime\n",
    "import re\n",
    "\n",
    "\n",
    "def date_extract(date):\n",
    "    if date == \"\" or date is None:\n",
    "        event_start_date = \"NA\"\n",
    "        event_end_date = \"NA\"\n",
    "    else:\n",
    "        date1 = date.replace(' - ','-').replace(' to ','-').replace(' and ','-')\n",
    "        date2 = date1.replace('Start', \"NA\").replace('start', \"NA\")\n",
    "        \n",
    "        if not re.match(r'\\d{4}-\\d{4}',date2):\n",
    "            Start_date = date2.split(\"-\")[0]\n",
    "            End_date = date2.split(\"-\")[-1]\n",
    "\n",
    "            if Start_date != 'NA':\n",
    "                try:\n",
    "                    start_date = datetime.strptime(Start_date,\"%Y/%m/%d\") if re.match(r'^\\d{4}',Start_date) else datetime.strptime(Start_date,\"%d/%m/%Y\")\n",
    "                    event_start_date = datetime.strftime(start_date,\"%Y-%m-%dT%H:%M:%S.00Z\")\n",
    "                except:\n",
    "                    event_start_date = 'Invalid date'\n",
    "            else:\n",
    "                event_start_date = 'NA'\n",
    "\n",
    "            if End_date != 'NA':\n",
    "                try:\n",
    "                    end_date = datetime.strptime(End_date,\"%Y/%m/%d\") if re.match(r'^\\d{4}',End_date) else datetime.strptime(End_date,\"%d/%m/%Y\")\n",
    "                    event_end_date = datetime.strftime(end_date,\"%Y-%m-%dT%H:%M:%S.00Z\")\n",
    "                except:\n",
    "                    event_end_date = 'Invalid date'  \n",
    "            else:\n",
    "                event_end_date = 'NA'\n",
    "\n",
    "        else:\n",
    "\n",
    "            Start_date = date2.split(\"-\")[0]\n",
    "            End_date = date2.split(\"-\")[-1]\n",
    "\n",
    "            start_date = datetime.strptime(Start_date,\"%Y\") \n",
    "            end_date = datetime.strptime(End_date,\"%Y\")     \n",
    "            event_start_date = datetime.strftime(start_date,\"%Y-%m-%dT%H:%M:%S.00Z\")\n",
    "            event_end_date = datetime.strftime(end_date,\"%Y-%m-%dT%H:%M:%S.00Z\")\n",
    "        \n",
    "    return event_start_date,event_end_date\n",
    "\n",
    "def get_detail(hdruk):\n",
    "    hdruk_detail = []\n",
    "\n",
    "    for data in hdruk:\n",
    "        detail_dictionary = {}\n",
    "        detail = data['details'][0]\n",
    "        detail_dictionary[\"Phenotype_id\"] = detail['phenotype_id'] if detail['phenotype_id'] else 'NA'\n",
    "        # print(d[\"Phenotype_id\"])\n",
    "        detail_dictionary[\"Phenotype_version_id\"] = int(detail['phenotype_version_id']) if detail['phenotype_version_id'] else 'NA'\n",
    "        detail_dictionary[\"Name\"] = detail['name'] if detail['name'] else 'NA'\n",
    "        detail_dictionary[\"Defination\"] = detail['definition'] if detail['definition'] else 'NA'\n",
    "        detail_dictionary[\"Implementation\"] = detail['implementation'] if detail['implementation'] else 'NA'\n",
    "        detail_dictionary[\"Publications\"] = detail['publications'] if detail['publications'] else 'NA'\n",
    "        detail_dictionary[\"Validation\"] = detail[\"validation\"] if detail[\"validation\"] else 'NA'\n",
    "        detail_dictionary[\"Citation_requirements\"] = detail[\"citation_requirements\"] if detail[\"citation_requirements\"] else 'NA'\n",
    "        detail_dictionary[\"Created\"] = detail[\"created\"] if detail[\"created\"] else 'NA'\n",
    "        detail_dictionary[\"author\"] = detail[\"author\"] if detail[\"author\"] else 'NA'\n",
    "        detail_dictionary[\"Collections\"] = [name ['name'] for name in detail['collections']] if detail['collections'] else 'NA'\n",
    "        detail_dictionary[\"Tags\"] = detail[\"tags\"] if detail[\"tags\"] else 'NA'\n",
    "        detail_dictionary[\"Group\"] = detail[\"group\"] if detail[\"group\"] else 'NA'\n",
    "        detail_dictionary[\"Group_access\"] = int(detail[\"group_access\"]) if detail[\"group_access\"] else 'NA'\n",
    "        detail_dictionary[\"World_access\"] = int(detail[\"world_access\"]) if detail[\"world_access\"] else 'NA'\n",
    "        detail_dictionary[\"Updated\"] = detail[\"updated\"] if detail[\"updated\"] else 'NA'\n",
    "        detail_dictionary[\"Sex\"] = detail['sex'][0][\"name\"] if detail['sex'] else 'NA'\n",
    "        detail_dictionary[\"Type\"] = detail['type'][0][\"name\"] if detail['type'] else 'NA'\n",
    "        detail_dictionary[\"Phenoflow_id\"] = int(detail['phenoflowid']) if detail['phenoflowid'] else 'NA'\n",
    "        try:\n",
    "            detail_dictionary[\"Data_sources\"] = {item['name'] : item['url'] for item in detail['data_sources']} if 'url' in detail['data_sources'][0].keys() else 'NA'\n",
    "        except: \n",
    "            detail_dictionary['Data_sources'] = 'NA'\n",
    "        detail_dictionary[\"Coding_system\"] = detail['coding_system'][0][\"name\"] if detail['coding_system'] else 'NA'\n",
    "        detail_dictionary['Event_start_date'],detail_dictionary['Event_end_date'] = date_extract(detail['event_date_range']) \n",
    "        detail_dictionary[\"Status\"] = int(detail[\"status\"]) if detail[\"status\"] else 'NA'\n",
    "        detail_dictionary[\"Is_deleted\"] = detail[\"is_deleted\"] if detail[\"is_deleted\"] else 'NA'\n",
    "        detail_dictionary[\"Owner\"] = detail[\"owner\"] if detail[\"owner\"] else 'NA'\n",
    "        \n",
    "        hdruk_detail.append(detail_dictionary)   \n",
    "\n",
    "    sorted_detail = sorted(hdruk_detail,key=lambda x:x['Phenotype_id'])\n",
    "    i = 0\n",
    "    for detail in sorted_detail:\n",
    "        i+=1\n",
    "        detail['PID'] = f'HP{i:06d}'\n",
    "\n",
    "    return sorted_detail\n",
    "\n",
    "\n",
    "def get_concept(hdruk,detail):\n",
    "    hdruk_concept = []\n",
    "    id_list = []\n",
    "    codelist = [data['codelist'] for data in hdruk]\n",
    "\n",
    "    for data in codelist:\n",
    "        for dic in data:\n",
    "            if dic[\"id\"] not in id_list:\n",
    "                concept_dictionary = {}\n",
    "                id_list.append(dic[\"id\"])\n",
    "                concept_dictionary[\"Description\"] = dic['description'].strip().replace(\"\\\\\", \"\")\n",
    "                concept_dictionary[\"ID\"] = dic[\"id\"]\n",
    "                concept_dictionary[\"Concept_id\"] = [dic['concept_id']]\n",
    "                concept_dictionary[\"Concept_history_id\"] = [dic['concept_history_id']]\n",
    "                concept_dictionary[\"Concept_history_date\"] = [dic['concept_history_date']]\n",
    "                concept_dictionary[\"Component_id\"] = [dic[\"component_id\"]]\n",
    "                concept_dictionary[\"Component_history_id\"] = [dic[\"component_history_id\"]]\n",
    "                concept_dictionary[\"Logical_type\"] = [dic[\"logical_type\"]]\n",
    "                concept_dictionary[\"Codelist_id\"] = [dic[\"codelist_id\"]]\n",
    "                concept_dictionary[\"Codelist_history_id\"] = [dic[\"codelist_history_id\"]]\n",
    "                concept_dictionary[\"Code\"] = [dic[\"code\"]]\n",
    "                concept_dictionary[\"Coding_system_id\"] = [dic[\"coding_system\"][\"id\"]]\n",
    "                concept_dictionary[\"Coding_system_name\"] = [dic[\"coding_system\"][\"name\"]]\n",
    "                concept_dictionary[\"Coding_system_description\"] =  [dic[\"coding_system\"][\"description\"]]\n",
    "                concept_dictionary[\"Phenotype_id\"] = [dic[\"phenotype_id\"]]\n",
    "                concept_dictionary[\"Phenotype_version_id\"] = [dic[\"phenotype_version_id\"]]\n",
    "                concept_dictionary[\"Phenotype_name\"] = [dic[\"phenotype_name\"]]\n",
    "                concept_dictionary[\"PIDs\"] = [P[\"PID\"] for P in detail if P['Phenotype_id'] == dic[\"phenotype_id\"]]\n",
    "                hdruk_concept.append(concept_dictionary)\n",
    "            else:\n",
    "                for concept in hdruk_concept:\n",
    "                    if concept['ID'] == dic[\"id\"]:\n",
    "                        concept['Concept_id'].append(dic['concept_id']) \n",
    "                        concept['Concept_history_id'].append(dic['concept_history_id'])\n",
    "                        concept['Concept_history_date'].append(dic['concept_history_date'])\n",
    "                        concept['Component_id'].append(dic['component_id'])\n",
    "                        concept['Component_history_id'].append(dic['component_history_id'])\n",
    "                        concept['Logical_type'].append(dic['logical_type'])\n",
    "                        concept['Codelist_id'].append(dic['codelist_id'])\n",
    "                        concept['Codelist_history_id'].append(dic['codelist_history_id'])\n",
    "                        concept['Code'].append(dic['code'])\n",
    "                        concept['Coding_system_id'].append(dic['coding_system']['id'])\n",
    "                        concept['Coding_system_name'].append(dic['coding_system']['name'])\n",
    "                        concept['Coding_system_description'].append(dic['coding_system']['description'])\n",
    "                        concept['Phenotype_id'].append(dic['phenotype_id'])\n",
    "                        concept['Phenotype_version_id'].append(dic['phenotype_version_id'])\n",
    "                        concept['Phenotype_name'].append(dic['phenotype_name'])\n",
    "                        concept['PIDs'].extend([P[\"PID\"] for P in detail if P['Phenotype_id'] == dic[\"phenotype_id\"]])\n",
    "\n",
    "    concept_sorted = sorted(hdruk_concept,key = lambda x: x['Description'])\n",
    "    i = 0\n",
    "    for concept in concept_sorted:\n",
    "        i += 1\n",
    "        concept['CID'] = f'HC{i:06d}'\n",
    "\n",
    "    return concept_sorted\n"
   ]
  },
  {
   "cell_type": "code",
   "execution_count": null,
   "id": "28243408",
   "metadata": {},
   "outputs": [],
   "source": [
    "from src.config import HDRUK_DIR\n",
    "from src.utils import save_detail,save_concept"
   ]
  },
  {
   "cell_type": "code",
   "execution_count": 15,
   "id": "7b7cc96a",
   "metadata": {},
   "outputs": [],
   "source": [
    "\n",
    "\n",
    "def main():\n",
    "    # with open(rf'{dir}\\hdruk_phenotypes.json', 'r') as file:\n",
    "    #     file = file.read()\n",
    "    #     hdruk = json.loads(file)\n",
    "    detail = get_detail(hdruk)\n",
    "    concept = get_concept(hdruk,detail)\n",
    "    save_detail(HDRUK_DIR,detail,'HDRUK')\n",
    "    save_concept(HDRUK_DIR,concept,'HDRUK')\n",
    "    return detail,concept\n",
    "\n",
    "hdruk_detail,hdruk_concept = main()"
   ]
  },
  {
   "cell_type": "code",
   "execution_count": null,
   "id": "b4c2c04d",
   "metadata": {},
   "outputs": [],
   "source": []
  }
 ],
 "metadata": {
  "kernelspec": {
   "display_name": "base",
   "language": "python",
   "name": "python3"
  },
  "language_info": {
   "codemirror_mode": {
    "name": "ipython",
    "version": 3
   },
   "file_extension": ".py",
   "mimetype": "text/x-python",
   "name": "python",
   "nbconvert_exporter": "python",
   "pygments_lexer": "ipython3",
   "version": "3.12.7"
  }
 },
 "nbformat": 4,
 "nbformat_minor": 5
}
