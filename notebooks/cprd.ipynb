{
 "cells": [
  {
   "cell_type": "code",
   "execution_count": 6,
   "id": "bdc33c70",
   "metadata": {},
   "outputs": [
    {
     "data": {
      "text/plain": [
       "'c:\\\\Users\\\\PrinciaFernandes\\\\Mresult\\\\Phenomix\\\\notebooks'"
      ]
     },
     "execution_count": 6,
     "metadata": {},
     "output_type": "execute_result"
    }
   ],
   "source": [
    "%pwd"
   ]
  },
  {
   "cell_type": "code",
   "execution_count": 7,
   "id": "b37cea4e",
   "metadata": {},
   "outputs": [],
   "source": [
    "import os\n",
    "os.chdir(\"../\")"
   ]
  },
  {
   "cell_type": "code",
   "execution_count": 8,
   "id": "9384bc0d",
   "metadata": {},
   "outputs": [
    {
     "data": {
      "text/plain": [
       "'c:\\\\Users\\\\PrinciaFernandes\\\\Mresult\\\\Phenomix'"
      ]
     },
     "execution_count": 8,
     "metadata": {},
     "output_type": "execute_result"
    }
   ],
   "source": [
    "%pwd"
   ]
  },
  {
   "cell_type": "code",
   "execution_count": null,
   "id": "12a00b03",
   "metadata": {},
   "outputs": [],
   "source": [
    "import requests\n",
    "import pandas as pd\n",
    "\n",
    "\n",
    "def cprd_scrapping(base_url):\n",
    "    cprd = []\n",
    "    csv_files = []\n",
    "    response = requests.get(base_url)\n",
    "    files = response.json()\n",
    "\n",
    "    for file in files:\n",
    "        if file['name'].endswith('.csv'):\n",
    "            csv_files.append(file['download_url'])\n",
    "\n",
    "\n",
    "    for file in csv_files[:5]:\n",
    "        cprd_df = pd.read_csv(file,  na_values=['','NA'], keep_default_na=False)\n",
    "        if not cprd_df.empty:\n",
    "            cprd_df['read code'] = cprd_df['read code'].fillna(cprd_df['snomedctdescriptionid'])\n",
    "\n",
    "            for row in cprd_df.values.tolist():\n",
    "                cprd_dictionary = {}\n",
    "                for col,val in zip(cprd_df.columns,row):\n",
    "                    cprd_dictionary[col] = val\n",
    "                cprd.append(cprd_dictionary)\n",
    "    return cprd\n"
   ]
  },
  {
   "cell_type": "code",
   "execution_count": null,
   "id": "80578707",
   "metadata": {},
   "outputs": [],
   "source": [
    "from src.utils import save_json\n",
    "from src.config import RAW_DIR,CPRD_URL"
   ]
  },
  {
   "cell_type": "code",
   "execution_count": 15,
   "id": "7bd0350e",
   "metadata": {},
   "outputs": [],
   "source": [
    "\n",
    "\n",
    "def main():\n",
    "    base_url = CPRD_URL\n",
    "    cprd = cprd_scrapping(base_url)\n",
    "    save_json(RAW_DIR,cprd,'CPRD')\n",
    "    return cprd\n",
    "\n",
    "cprd = main()\n",
    "\n"
   ]
  },
  {
   "cell_type": "code",
   "execution_count": null,
   "id": "96790e2e",
   "metadata": {},
   "outputs": [],
   "source": [
    "\n",
    "from src.utils import save_concept,save_detail\n",
    "from src.config import CPRD_DIR\n",
    "\n",
    "def get_detail(cprd):\n",
    "    i = 0\n",
    "    hdruk_detail = []\n",
    "    disease_list = []\n",
    "    for pheno in cprd:\n",
    "        if pheno['disease'] not in disease_list:\n",
    "            disease_list.append(pheno['disease'])\n",
    "            i += 1\n",
    "            detail_dictionary = {}\n",
    "            detail_dictionary['Disease'] = pheno['disease']\n",
    "            detail_dictionary['Disease_num'] = pheno['disease_num']\n",
    "            detail_dictionary['PID'] = f'CP{i:06d}'\n",
    "            hdruk_detail.append(detail_dictionary)\n",
    "    return hdruk_detail\n",
    "\n",
    "\n",
    "\n",
    "def get_concept(cprd,detail):\n",
    "    hdruk_concept = []\n",
    "    disease_code_list = []\n",
    "    for pheno in cprd:\n",
    "        if pheno['read code'] not in disease_code_list:\n",
    "            concept_dctionary = {}\n",
    "            disease_code_list.append(pheno['read code'])\n",
    "            concept_dctionary['Read_code'] = str(pheno['read code'])\n",
    "            concept_dctionary['Description'] = pheno['descr']\n",
    "            concept_dctionary['Med_code'] = [pheno['medcode']]\n",
    "            concept_dctionary['Category'] = [pheno['category']]\n",
    "            concept_dctionary['System'] = [pheno['system']]\n",
    "            concept_dctionary['System_num'] = [pheno['system_num']]\n",
    "            concept_dctionary['Med_code_id'] = [pheno['medcodeid']]\n",
    "            concept_dctionary['Snomed_ct_concept_id'] = [pheno['snomedctconceptid']]\n",
    "            concept_dctionary['Snomed_ct_description_id'] = [pheno['snomedctdescriptionid']]\n",
    "            concept_dctionary['Mapping'] = [pheno['mapping']]\n",
    "            concept_dctionary['Disease'] = [pheno['disease']]\n",
    "            concept_dctionary['Disease_num'] = [pheno['disease_num']]\n",
    "            concept_dctionary['PIDs'] = [dict['PID'] for dict in detail if dict['Disease'] == pheno['disease']]\n",
    "            hdruk_concept.append(concept_dctionary)\n",
    "\n",
    "        else: \n",
    "            for concept in hdruk_concept: \n",
    "                if concept['Disease'] == pheno['disease']:\n",
    "                    concept['Med_code'].append(pheno['medcode']) \n",
    "                    concept['Category'].append(pheno['category'])\n",
    "                    concept['System'].append(pheno['system'])\n",
    "                    concept['System_num'].append(pheno['system_num']) \n",
    "                    concept['Med_code_id'].append(pheno['medcodeid'])\n",
    "                    concept['Snomed_ct_concept_id'].append(pheno['snomedctconceptid']) \n",
    "                    concept['Snomed_ct_description_id'].append(pheno['snomedctdescriptionid']) \n",
    "                    concept['Mapping'].append(pheno['mapping']) \n",
    "                    concept['Disease'].append(pheno['disease']) \n",
    "                    concept['Disease_num'].append(pheno['disease_num']) \n",
    "                    concept['PIDs'].extend([dict['PID'] for dict in detail if dict['Disease'] == pheno['Disease']])\n",
    "\n",
    "    sorted_concept = sorted(hdruk_concept,key = lambda x: x['Read_code'])\n",
    "    i = 0\n",
    "    for concept in sorted_concept:\n",
    "        i += 1\n",
    "        concept['CID'] = f'CC{i:06d}'\n",
    "\n",
    "    return sorted_concept\n"
   ]
  },
  {
   "cell_type": "code",
   "execution_count": 22,
   "id": "d9c47541",
   "metadata": {},
   "outputs": [],
   "source": [
    "\n",
    "def main():\n",
    "    # dir = r'CPRD/'\n",
    "    # with open(rf'{dir}\\cprd_phenotypes.json','r') as file:\n",
    "    #     file = file.read()\n",
    "    #     cprd = json.loads(file)\n",
    "    detail = get_detail(cprd)\n",
    "    concept = get_concept(cprd,detail)\n",
    "    save_detail(CPRD_DIR,detail,'CPRD')\n",
    "    save_concept(CPRD_DIR,concept,'CPRD')\n",
    "    return detail,concept\n",
    "\n",
    "cprd_detail,cprd_concept = main()"
   ]
  }
 ],
 "metadata": {
  "kernelspec": {
   "display_name": "base",
   "language": "python",
   "name": "python3"
  },
  "language_info": {
   "codemirror_mode": {
    "name": "ipython",
    "version": 3
   },
   "file_extension": ".py",
   "mimetype": "text/x-python",
   "name": "python",
   "nbconvert_exporter": "python",
   "pygments_lexer": "ipython3",
   "version": "3.12.7"
  }
 },
 "nbformat": 4,
 "nbformat_minor": 5
}
