{
 "cells": [
  {
   "cell_type": "code",
   "execution_count": 3,
   "id": "2c50c938",
   "metadata": {},
   "outputs": [
    {
     "data": {
      "text/plain": [
       "'c:\\\\Users\\\\PrinciaFernandes\\\\Mresult\\\\Phenomix\\\\notebooks'"
      ]
     },
     "execution_count": 3,
     "metadata": {},
     "output_type": "execute_result"
    }
   ],
   "source": [
    "%pwd"
   ]
  },
  {
   "cell_type": "code",
   "execution_count": 4,
   "id": "8b6acc88",
   "metadata": {},
   "outputs": [],
   "source": [
    "import os\n",
    "os.chdir(\"../\")"
   ]
  },
  {
   "cell_type": "code",
   "execution_count": 5,
   "id": "5658a94b",
   "metadata": {},
   "outputs": [],
   "source": [
    "from src.config import neo4j_uri,neo4j_username,neo4j_password\n",
    "from neo4j import GraphDatabase\n",
    "import json"
   ]
  },
  {
   "cell_type": "code",
   "execution_count": null,
   "id": "01838936",
   "metadata": {},
   "outputs": [],
   "source": []
  },
  {
   "cell_type": "code",
   "execution_count": 6,
   "id": "c1c609a3",
   "metadata": {},
   "outputs": [],
   "source": [
    "def get_detail_files(dir:str)->list:\n",
    "    detail_files = []\n",
    "    websites = ['CPRD','HDRUK','OHDSI','PHEKB','SENTINEL']\n",
    "    for files in os.listdir(dir):\n",
    "        if files in websites:\n",
    "            file_path = os.path.join(dir,files)\n",
    "            for detail in os.listdir(file_path):\n",
    "                if '_detail.json' in detail:\n",
    "                    with open(os.path.join(file_path,detail),'r') as f:\n",
    "                        file_content = f.read()\n",
    "                    detail_files.extend(json.loads(file_content))\n",
    "    return detail_files\n",
    "detail_file = get_detail_files(r'data\\processed')"
   ]
  },
  {
   "cell_type": "code",
   "execution_count": 7,
   "id": "3094a857",
   "metadata": {},
   "outputs": [],
   "source": [
    "def get_concept_files(dir:str)->list:\n",
    "    concept_files = []\n",
    "    websites = ['CPRD','HDRUK','OHDSI','PHEKB','SENTINEL']\n",
    "    for files in os.listdir(dir):\n",
    "        if files in websites:\n",
    "            file_path = os.path.join(dir,files)\n",
    "            for detail in os.listdir(file_path):\n",
    "                if '_concept.json' in detail:\n",
    "                    with open(os.path.join(file_path,detail),'r') as f:\n",
    "                        file_content = f.read()\n",
    "                    concept_files.extend(json.loads(file_content))\n",
    "    return concept_files\n",
    "concept_file = get_concept_files(r'data\\processed')"
   ]
  },
  {
   "cell_type": "code",
   "execution_count": 8,
   "id": "e8ad1bba",
   "metadata": {},
   "outputs": [],
   "source": [
    "import json\n",
    "with open(r'data\\masterlist\\Masterlist.json','r') as file:\n",
    "    f = file.read()\n",
    "    json_data = json.loads(f)\n"
   ]
  },
  {
   "cell_type": "code",
   "execution_count": 1,
   "id": "36522b10",
   "metadata": {},
   "outputs": [],
   "source": [
    "def push_to_neo4j(json_data,detail_file,concept_file):\n",
    "    driver = GraphDatabase.driver(neo4j_uri, auth=(neo4j_username, neo4j_password))\n",
    "\n",
    "    with driver.session() as session:\n",
    "        for item in json_data[:500]:\n",
    "            phenotype_name = item.get(\"Phenotypes\")\n",
    "            # print(item.get(\"id\"))\n",
    "            session.run(\"\"\"\n",
    "                CREATE (p:Phenotype {id:$row.id}) \n",
    "                SET p += $row\n",
    "                SET p.name = p.Phenotypes\n",
    "                REMOVE p.Phenotypes\n",
    "            \"\"\", name=phenotype_name,row = item)\n",
    "            pid_sources = {\n",
    "                        'HDRUK': item.get(\"hdruk_PID\"),\n",
    "                        'PHEKB': item.get(\"phekb_PID\"),\n",
    "                        'CPRD': item.get(\"cprd_PID\"),\n",
    "                        'Sentinel': item.get(\"Sentinel_PID\"),\n",
    "                        'OHDSI': item.get(\"ohdsi_PID\"),\n",
    "                    }\n",
    "            # print(pid_sources)\n",
    "\n",
    "            for source, pid_string in pid_sources.items():\n",
    "                if pid_string:\n",
    "                    # print(source)\n",
    "                    website_pids = [pid.strip() for pid in pid_string.split(\",\") if pid.strip()]\n",
    "                    session.run(\"\"\"\n",
    "                                CREATE  (w:Website {name: $name, pid: $pids})\n",
    "                                WITH w\n",
    "                                MATCH (p:Phenotype {id:$row.id})\n",
    "                                MERGE (p)-[:HAS_INSTANCE]->(w)\n",
    "                                    \"\"\",name = source,pids = website_pids,row = item)\n",
    "                    \n",
    "                    for pid in website_pids:\n",
    "                        detail_row = next(detail_dictionary for detail_dictionary in detail_file if pid == detail_dictionary['PID'])\n",
    "                        # print(pid)\n",
    "                        for key,value in detail_row.items():\n",
    "                            if isinstance(value,dict):\n",
    "                                detail_row[key] = json.dumps(value)\n",
    "                            elif isinstance(value,list):\n",
    "                                if all(isinstance(subitem, dict) for subitem in value):\n",
    "                                    detail_row[key] = json.dumps([json.dumps(item) for item in value])\n",
    "                                else:\n",
    "                                    detail_row[key] = value if value is not None else []\n",
    "                            elif value is None or value == 'NA' or value == 'NO_VALUE':\n",
    "                                detail_row[key] = 'Unknown value'\n",
    "                        session.run(\"\"\"\n",
    "                                CREATE (d:Detail {PID:$detail_row.PID})\n",
    "                                SET d += $detail_row\n",
    "                                WITH d\n",
    "                                MATCH (p:Phenotype {id:$row.id}) \n",
    "                                MATCH (w:Website {name:$name})\n",
    "                                MATCH (p)-[:HAS_INSTANCE]->(w)\n",
    "                                MERGE (w)-[:HAS_DETAIL]->(d)\n",
    "                                \"\"\",detail_row = detail_row,row = item,name = source)\n",
    "                        concept_row = [concept_dictionary for concept_dictionary in concept_file if pid in concept_dictionary['PIDs']] \n",
    "                        if len(concept_row)<1:\n",
    "                            continue\n",
    "                    \n",
    "                        for concept in concept_row:\n",
    "                            for key in list(concept.keys()):\n",
    "                                value = concept[key]\n",
    "                                if isinstance(value, (dict, list)):\n",
    "                                    concept[key] = json.dumps(value)\n",
    "                            session.run(\"\"\"\n",
    "                                        CREATE (c:Concept {CID:$concept.CID})\n",
    "                                        SET c += $concept\n",
    "                                        WITH c\n",
    "                                        MATCH (p:Phenotype {id:$row.id}) \n",
    "                                        MATCH (w:Website {name:$name})\n",
    "                                        MATCH (d:Detail {PID:$pid})\n",
    "                                        MATCH (p)-[:HAS_INSTANCE]->(w)-[:HAS_DETAIL]->(d)\n",
    "                                        MERGE (d)-[:HAS_CONCEPT]->(c)\n",
    "                                        \"\"\",concept = concept,row = item,name = source,pid = pid)\n",
    "    \n",
    "    driver.close()\n",
    "    return \"Phenomix data added to Neo4J\"\n",
    "\n"
   ]
  },
  {
   "cell_type": "code",
   "execution_count": 9,
   "id": "34153cdd",
   "metadata": {},
   "outputs": [
    {
     "data": {
      "text/plain": [
       "'Phenomix data added to Neo4J'"
      ]
     },
     "execution_count": 9,
     "metadata": {},
     "output_type": "execute_result"
    }
   ],
   "source": [
    "push_to_neo4j(json_data,detail_file,concept_file)"
   ]
  }
 ],
 "metadata": {
  "kernelspec": {
   "display_name": "base",
   "language": "python",
   "name": "python3"
  },
  "language_info": {
   "codemirror_mode": {
    "name": "ipython",
    "version": 3
   },
   "file_extension": ".py",
   "mimetype": "text/x-python",
   "name": "python",
   "nbconvert_exporter": "python",
   "pygments_lexer": "ipython3",
   "version": "3.12.7"
  }
 },
 "nbformat": 4,
 "nbformat_minor": 5
}
